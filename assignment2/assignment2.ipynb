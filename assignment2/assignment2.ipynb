{
 "cells": [
  {
   "cell_type": "code",
   "execution_count": 1,
   "metadata": {},
   "outputs": [
    {
     "name": "stderr",
     "output_type": "stream",
     "text": [
      "/home/szarki/anaconda3/lib/python3.6/site-packages/sklearn/cross_validation.py:41: DeprecationWarning: This module was deprecated in version 0.18 in favor of the model_selection module into which all the refactored classes and functions are moved. Also note that the interface of the new CV iterators are different from that of this module. This module will be removed in 0.20.\n",
      "  \"This module will be removed in 0.20.\", DeprecationWarning)\n",
      "Using TensorFlow backend.\n"
     ]
    }
   ],
   "source": [
    "import numpy as np\n",
    "import pandas as pd\n",
    "from sklearn.feature_extraction.text import CountVectorizer\n",
    "from sklearn.preprocessing import LabelEncoder, MultiLabelBinarizer\n",
    "from sklearn.model_selection import cross_val_score,GridSearchCV\n",
    "from sklearn.pipeline import Pipeline\n",
    "from sklearn.ensemble import ExtraTreesClassifier, RandomForestClassifier\n",
    "from sklearn.cross_validation import StratifiedKFold\n",
    "\n",
    "from keras.models import Sequential\n",
    "from keras.layers import Dense, Activation, Dropout\n",
    "from keras.utils import to_categorical\n",
    "from keras.metrics import categorical_accuracy\n",
    "from keras import backend as K\n",
    "\n",
    "np.random.seed(666);"
   ]
  },
  {
   "cell_type": "markdown",
   "metadata": {},
   "source": [
    "## Data preprocessing"
   ]
  },
  {
   "cell_type": "code",
   "execution_count": 2,
   "metadata": {},
   "outputs": [
    {
     "name": "stdout",
     "output_type": "stream",
     "text": [
      "recipes:  30000\n",
      "cuisines ['brazilian', 'british', 'cajun_creole', 'chinese', 'filipino', 'french', 'greek', 'indian', 'irish', 'italian', 'jamaican', 'japanese', 'korean', 'mexican', 'moroccan', 'russian', 'southern_us', 'spanish', 'thai', 'vietnamese']\n"
     ]
    }
   ],
   "source": [
    "train = pd.read_json('cooking_train.json')\n",
    "print ('recipes: ', train.shape[0])\n",
    "print ('cuisines', sorted(set(train.cuisine)))"
   ]
  },
  {
   "cell_type": "code",
   "execution_count": 3,
   "metadata": {
    "collapsed": true
   },
   "outputs": [],
   "source": [
    "ingredients = [i for sublist in train.ingredients for i in sublist]\n",
    "ingredients = sorted(set(ingredients))\n",
    "\n",
    "ingredients_size = len(ingredients)"
   ]
  },
  {
   "cell_type": "code",
   "execution_count": 4,
   "metadata": {},
   "outputs": [
    {
     "name": "stdout",
     "output_type": "stream",
     "text": [
      "6251\n",
      "20\n"
     ]
    }
   ],
   "source": [
    "cuisine = sorted(set(train.cuisine))\n",
    "cuisine_size = len(cuisine)\n",
    "\n",
    "print(ingredients_size)\n",
    "print(cuisine_size)"
   ]
  },
  {
   "cell_type": "code",
   "execution_count": 5,
   "metadata": {
    "collapsed": true
   },
   "outputs": [],
   "source": [
    "def preprocessor(line):\n",
    "    return ' '.join(line).lower()"
   ]
  },
  {
   "cell_type": "code",
   "execution_count": 6,
   "metadata": {
    "collapsed": true
   },
   "outputs": [],
   "source": [
    "X_raw = train.ingredients\n",
    "Y_raw = train.cuisine"
   ]
  },
  {
   "cell_type": "code",
   "execution_count": 7,
   "metadata": {
    "scrolled": true
   },
   "outputs": [
    {
     "name": "stdout",
     "output_type": "stream",
     "text": [
      "[[0 0 0 ..., 0 0 0]\n",
      " [0 0 0 ..., 0 0 0]\n",
      " [0 0 0 ..., 0 0 0]\n",
      " ..., \n",
      " [0 0 0 ..., 0 0 0]\n",
      " [0 0 0 ..., 0 0 0]\n",
      " [0 0 0 ..., 0 0 0]]\n"
     ]
    }
   ],
   "source": [
    "vect_in = CountVectorizer(preprocessor=preprocessor)\n",
    "X_train = vect_in.fit_transform(X_raw).todense()\n",
    "print(X_train)"
   ]
  },
  {
   "cell_type": "code",
   "execution_count": 8,
   "metadata": {
    "collapsed": true
   },
   "outputs": [],
   "source": [
    "lab_enc = LabelEncoder()\n",
    "Y_train = lab_enc.fit_transform(Y_raw)\n",
    "Y_train = to_categorical(Y_train, num_classes=20)"
   ]
  },
  {
   "cell_type": "code",
   "execution_count": 9,
   "metadata": {
    "scrolled": true
   },
   "outputs": [
    {
     "name": "stdout",
     "output_type": "stream",
     "text": [
      "2866\n",
      "(30000, 20)\n"
     ]
    }
   ],
   "source": [
    "input_dim = X_train.shape[1]\n",
    "print(input_dim)\n",
    "print(Y_train.shape)"
   ]
  },
  {
   "cell_type": "code",
   "execution_count": 10,
   "metadata": {},
   "outputs": [
    {
     "name": "stdout",
     "output_type": "stream",
     "text": [
      "[[0 0 0 ..., 0 0 0]\n",
      " [0 0 0 ..., 0 0 0]\n",
      " [0 0 0 ..., 0 0 0]\n",
      " ..., \n",
      " [0 0 0 ..., 0 0 0]\n",
      " [0 0 0 ..., 0 0 0]\n",
      " [0 0 0 ..., 0 0 0]]\n"
     ]
    }
   ],
   "source": [
    "print(X_train)"
   ]
  },
  {
   "cell_type": "code",
   "execution_count": 11,
   "metadata": {
    "scrolled": false
   },
   "outputs": [
    {
     "name": "stdout",
     "output_type": "stream",
     "text": [
      "(30000, 20)\n"
     ]
    }
   ],
   "source": [
    "print(Y_train.shape)"
   ]
  },
  {
   "cell_type": "markdown",
   "metadata": {},
   "source": [
    "## Neural Network"
   ]
  },
  {
   "cell_type": "markdown",
   "metadata": {},
   "source": [
    "NN might work well, because different ingredients might have various impact on the cuisine choice."
   ]
  },
  {
   "cell_type": "code",
   "execution_count": 199,
   "metadata": {
    "collapsed": true,
    "scrolled": true
   },
   "outputs": [],
   "source": [
    "def create_model():\n",
    "    model = Sequential()\n",
    "\n",
    "    model.add(Dense(256, input_dim=input_dim))\n",
    "    model.add(Activation(\"relu\"))\n",
    "    model.add(Dropout(0.5))\n",
    "    model.add(Dense(20))\n",
    "    model.add(Activation(\"softmax\"))\n",
    "    model.compile(loss='categorical_crossentropy', optimizer='adam', metrics=['accuracy'])\n",
    "    \n",
    "    return model"
   ]
  },
  {
   "cell_type": "code",
   "execution_count": 204,
   "metadata": {
    "collapsed": true
   },
   "outputs": [],
   "source": [
    "def train_evaluate(model, x_train, y_train, x_test, y_test):\n",
    "    model.fit(x_train, y_train, epochs=10, batch_size=64)\n",
    "    return model.evaluate(x_test, y_test, verbose=0)"
   ]
  },
  {
   "cell_type": "code",
   "execution_count": 205,
   "metadata": {
    "scrolled": true
   },
   "outputs": [
    {
     "name": "stdout",
     "output_type": "stream",
     "text": [
      "Running Fold 1 / 4\n",
      "22495\n",
      "7505\n",
      "Epoch 1/10\n",
      "22495/22495 [==============================] - 4s - loss: 1.3553 - acc: 0.6303     \n",
      "Epoch 2/10\n",
      "22495/22495 [==============================] - 3s - loss: 0.8256 - acc: 0.7629     \n",
      "Epoch 3/10\n",
      "22495/22495 [==============================] - 3s - loss: 0.6996 - acc: 0.7977     \n",
      "Epoch 4/10\n",
      "22495/22495 [==============================] - 3s - loss: 0.6152 - acc: 0.8166     \n",
      "Epoch 5/10\n",
      "22495/22495 [==============================] - 3s - loss: 0.5602 - acc: 0.8327     \n",
      "Epoch 6/10\n",
      "22495/22495 [==============================] - 3s - loss: 0.5102 - acc: 0.8435     \n",
      "Epoch 7/10\n",
      "22495/22495 [==============================] - 3s - loss: 0.4702 - acc: 0.8566     \n",
      "Epoch 8/10\n",
      "22495/22495 [==============================] - 3s - loss: 0.4368 - acc: 0.8682     \n",
      "Epoch 9/10\n",
      "22495/22495 [==============================] - 3s - loss: 0.4049 - acc: 0.8764     \n",
      "Epoch 10/10\n",
      "22495/22495 [==============================] - 3s - loss: 0.3737 - acc: 0.8861     \n",
      "[ 0.71993216  0.78867422]\n",
      "Running Fold 2 / 4\n",
      "22498\n",
      "7502\n",
      "Epoch 1/10\n",
      "22498/22498 [==============================] - 4s - loss: 1.3573 - acc: 0.6335     \n",
      "Epoch 2/10\n",
      "22498/22498 [==============================] - 3s - loss: 0.8187 - acc: 0.7670     \n",
      "Epoch 3/10\n",
      "22498/22498 [==============================] - 3s - loss: 0.6856 - acc: 0.7984     \n",
      "Epoch 4/10\n",
      "22498/22498 [==============================] - 3s - loss: 0.6045 - acc: 0.8208     \n",
      "Epoch 5/10\n",
      "22498/22498 [==============================] - 3s - loss: 0.5486 - acc: 0.8358     \n",
      "Epoch 6/10\n",
      "22498/22498 [==============================] - 3s - loss: 0.4962 - acc: 0.8515     \n",
      "Epoch 7/10\n",
      "22498/22498 [==============================] - 3s - loss: 0.4596 - acc: 0.8600     \n",
      "Epoch 8/10\n",
      "22498/22498 [==============================] - 3s - loss: 0.4229 - acc: 0.8709     \n",
      "Epoch 9/10\n",
      "22498/22498 [==============================] - 3s - loss: 0.3952 - acc: 0.8814     \n",
      "Epoch 10/10\n",
      "22498/22498 [==============================] - 3s - loss: 0.3648 - acc: 0.8877     \n",
      "[ 0.78148375  0.78179152]\n",
      "Running Fold 3 / 4\n",
      "22503\n",
      "7497\n",
      "Epoch 1/10\n",
      "22503/22503 [==============================] - 4s - loss: 1.3686 - acc: 0.6310     \n",
      "Epoch 2/10\n",
      "22503/22503 [==============================] - 3s - loss: 0.8245 - acc: 0.7647     \n",
      "Epoch 3/10\n",
      "22503/22503 [==============================] - 3s - loss: 0.6896 - acc: 0.7983     \n",
      "Epoch 4/10\n",
      "22503/22503 [==============================] - 3s - loss: 0.6080 - acc: 0.8182     \n",
      "Epoch 5/10\n",
      "22503/22503 [==============================] - 3s - loss: 0.5501 - acc: 0.8342     \n",
      "Epoch 6/10\n",
      "22503/22503 [==============================] - 3s - loss: 0.5016 - acc: 0.8493     \n",
      "Epoch 7/10\n",
      "22503/22503 [==============================] - 3s - loss: 0.4637 - acc: 0.8622     \n",
      "Epoch 8/10\n",
      "22503/22503 [==============================] - 3s - loss: 0.4287 - acc: 0.8710     \n",
      "Epoch 9/10\n",
      "22503/22503 [==============================] - 3s - loss: 0.3967 - acc: 0.8800     \n",
      "Epoch 10/10\n",
      "22503/22503 [==============================] - 3s - loss: 0.3707 - acc: 0.8861     \n",
      "[ 0.74539779  0.78804855]\n",
      "Running Fold 4 / 4\n",
      "22504\n",
      "7496\n",
      "Epoch 1/10\n",
      "22504/22504 [==============================] - 4s - loss: 1.3604 - acc: 0.6341     \n",
      "Epoch 2/10\n",
      "22504/22504 [==============================] - 3s - loss: 0.8239 - acc: 0.7638     \n",
      "Epoch 3/10\n",
      "22504/22504 [==============================] - 3s - loss: 0.6935 - acc: 0.7967     \n",
      "Epoch 4/10\n",
      "22504/22504 [==============================] - 3s - loss: 0.6162 - acc: 0.8157     \n",
      "Epoch 5/10\n",
      "22504/22504 [==============================] - 3s - loss: 0.5567 - acc: 0.8321     \n",
      "Epoch 6/10\n",
      "22504/22504 [==============================] - 3s - loss: 0.5147 - acc: 0.8426     \n",
      "Epoch 7/10\n",
      "22504/22504 [==============================] - 3s - loss: 0.4691 - acc: 0.8571     \n",
      "Epoch 8/10\n",
      "22504/22504 [==============================] - 3s - loss: 0.4336 - acc: 0.8673     \n",
      "Epoch 9/10\n",
      "22504/22504 [==============================] - 3s - loss: 0.4023 - acc: 0.8775     \n",
      "Epoch 10/10\n",
      "22504/22504 [==============================] - 3s - loss: 0.3808 - acc: 0.8808     \n",
      "[ 0.7148874   0.79842583]\n",
      "[ 0.74042527  0.78923503]\n"
     ]
    }
   ],
   "source": [
    "n_folds = 4\n",
    "skf = StratifiedKFold(Y_raw, n_folds=n_folds, shuffle=True)\n",
    "result = np.array([0., 0.])\n",
    "\n",
    "for i, (train, test) in enumerate(skf):\n",
    "        print(\"Running Fold %d / %d\" % (i+1, n_folds))\n",
    "        print(len(train))\n",
    "        print(len(test))\n",
    "        model = None # Clearing the NN.\n",
    "        model = create_model()\n",
    "        res = np.array(train_evaluate(model, X_train[train], Y_train[train], X_train[test], Y_train[test]))\n",
    "        print(res)\n",
    "        result = result + res\n",
    "    \n",
    "print(result / n_folds)"
   ]
  },
  {
   "cell_type": "markdown",
   "metadata": {},
   "source": [
    "## NN - submission"
   ]
  },
  {
   "cell_type": "code",
   "execution_count": 212,
   "metadata": {
    "collapsed": true
   },
   "outputs": [],
   "source": [
    "test = pd.read_json(\"cooking_test.json\")\n",
    "X_test = test.ingredients\n",
    "X_test = vect_in.transform(X_test).todense()"
   ]
  },
  {
   "cell_type": "code",
   "execution_count": 207,
   "metadata": {
    "scrolled": true
   },
   "outputs": [
    {
     "name": "stdout",
     "output_type": "stream",
     "text": [
      "Epoch 1/10\n",
      "30000/30000 [==============================] - 8s - loss: 1.1448 - acc: 0.6825     \n",
      "Epoch 2/10\n",
      "30000/30000 [==============================] - 7s - loss: 0.7383 - acc: 0.7818     \n",
      "Epoch 3/10\n",
      "30000/30000 [==============================] - 7s - loss: 0.6365 - acc: 0.8097     \n",
      "Epoch 4/10\n",
      "30000/30000 [==============================] - 8s - loss: 0.5649 - acc: 0.8296     \n",
      "Epoch 5/10\n",
      "30000/30000 [==============================] - 8s - loss: 0.5091 - acc: 0.8434     \n",
      "Epoch 6/10\n",
      "30000/30000 [==============================] - 8s - loss: 0.4681 - acc: 0.8547     \n",
      "Epoch 7/10\n",
      "30000/30000 [==============================] - 7s - loss: 0.4286 - acc: 0.8666     \n",
      "Epoch 8/10\n",
      "30000/30000 [==============================] - 7s - loss: 0.3924 - acc: 0.8775     \n",
      "Epoch 9/10\n",
      "30000/30000 [==============================] - 7s - loss: 0.3626 - acc: 0.8840     \n",
      "Epoch 10/10\n",
      "30000/30000 [==============================] - 7s - loss: 0.3371 - acc: 0.8939     \n"
     ]
    },
    {
     "data": {
      "text/plain": [
       "<keras.callbacks.History at 0x7f694cb64908>"
      ]
     },
     "execution_count": 207,
     "metadata": {},
     "output_type": "execute_result"
    }
   ],
   "source": [
    "model = create_model()\n",
    "model.fit(X_train, Y_train, epochs=10, batch_size=32)"
   ]
  },
  {
   "cell_type": "code",
   "execution_count": 213,
   "metadata": {
    "scrolled": true
   },
   "outputs": [
    {
     "name": "stdout",
     "output_type": "stream",
     "text": [
      "(9774, 2866)\n",
      "(30000, 2866)\n"
     ]
    }
   ],
   "source": [
    "print(X_test.shape)\n",
    "print(X_train.shape)"
   ]
  },
  {
   "cell_type": "code",
   "execution_count": 218,
   "metadata": {
    "collapsed": true
   },
   "outputs": [],
   "source": [
    "Y_test = model.predict(X_test)"
   ]
  },
  {
   "cell_type": "code",
   "execution_count": 219,
   "metadata": {},
   "outputs": [
    {
     "name": "stdout",
     "output_type": "stream",
     "text": [
      "(9774, 20)\n",
      "(30000, 20)\n"
     ]
    }
   ],
   "source": [
    "print(Y_test.shape)\n",
    "print(Y_train.shape)"
   ]
  },
  {
   "cell_type": "code",
   "execution_count": 220,
   "metadata": {
    "scrolled": true
   },
   "outputs": [
    {
     "name": "stdout",
     "output_type": "stream",
     "text": [
      "[[  1.01924422e-06   1.90751837e-09   8.05474940e-08 ...,   2.04238222e-05\n",
      "    5.74509780e-11   1.24792896e-08]\n",
      " [  1.98221505e-01   4.13851740e-05   1.55331159e-03 ...,   5.24059534e-01\n",
      "    4.00942191e-03   2.96830712e-03]\n",
      " [  3.97934316e-04   7.69247562e-02   7.59430043e-03 ...,   1.19447038e-02\n",
      "    1.94412200e-06   3.31897281e-05]\n",
      " ..., \n",
      " [  1.01208633e-08   1.57035246e-10   1.49693902e-09 ...,   5.93552691e-08\n",
      "    1.62943238e-07   5.38992822e-07]\n",
      " [  2.65809841e-09   8.34280058e-08   1.03727809e-08 ...,   1.05965398e-06\n",
      "    1.02021069e-04   4.92580526e-04]\n",
      " [  2.02626310e-07   9.91919994e-01   3.27810909e-07 ...,   9.08636594e-07\n",
      "    2.62380762e-09   7.76785711e-08]]\n"
     ]
    }
   ],
   "source": [
    "print(Y_test)"
   ]
  },
  {
   "cell_type": "code",
   "execution_count": 221,
   "metadata": {
    "collapsed": true
   },
   "outputs": [],
   "source": [
    "Y_test = np.argmax(Y_test, axis=1)\n",
    "result = lab_enc.inverse_transform(Y_test)"
   ]
  },
  {
   "cell_type": "code",
   "execution_count": 225,
   "metadata": {
    "scrolled": true
   },
   "outputs": [
    {
     "name": "stdout",
     "output_type": "stream",
     "text": [
      "['italian' 'spanish' 'italian' ..., 'korean' 'japanese' 'british']\n",
      "0       24888\n",
      "1       43564\n",
      "2       21898\n",
      "3        6991\n",
      "4       37700\n",
      "5       43546\n",
      "6       20544\n",
      "7       14160\n",
      "8       21405\n",
      "9       13357\n",
      "10      47851\n",
      "11      21850\n",
      "12      40949\n",
      "13      38502\n",
      "14      15500\n",
      "15      35594\n",
      "16       2834\n",
      "17      31955\n",
      "18      27382\n",
      "19      16928\n",
      "20      14886\n",
      "21       3058\n",
      "22      47985\n",
      "23      10538\n",
      "24      12693\n",
      "25      28744\n",
      "26       8172\n",
      "27      10655\n",
      "28      29405\n",
      "29      32680\n",
      "        ...  \n",
      "9744    23704\n",
      "9745    40435\n",
      "9746    37931\n",
      "9747    33480\n",
      "9748    32313\n",
      "9749    39709\n",
      "9750     6828\n",
      "9751    23874\n",
      "9752    48485\n",
      "9753    17157\n",
      "9754    26334\n",
      "9755     2365\n",
      "9756    40313\n",
      "9757    13773\n",
      "9758    22560\n",
      "9759     2271\n",
      "9760    49495\n",
      "9761    43818\n",
      "9762     5356\n",
      "9763    22183\n",
      "9764    14190\n",
      "9765     3598\n",
      "9766     1026\n",
      "9767    49020\n",
      "9768    25363\n",
      "9769     8371\n",
      "9770    16023\n",
      "9771    19489\n",
      "9772      176\n",
      "9773    49430\n",
      "Name: id, Length: 9774, dtype: int64\n"
     ]
    }
   ],
   "source": [
    "print(result)\n",
    "print(test.id)"
   ]
  },
  {
   "cell_type": "code",
   "execution_count": 227,
   "metadata": {},
   "outputs": [
    {
     "name": "stdout",
     "output_type": "stream",
     "text": [
      "[[24888 'italian']\n",
      " [43564 'spanish']\n",
      " [21898 'italian']\n",
      " ..., \n",
      " [19489 'korean']\n",
      " [176 'japanese']\n",
      " [49430 'british']]\n"
     ]
    }
   ],
   "source": [
    "subm_set = np.stack((test.id, result), axis=1)\n",
    "print(subm_set)"
   ]
  },
  {
   "cell_type": "code",
   "execution_count": 228,
   "metadata": {
    "collapsed": true
   },
   "outputs": [],
   "source": [
    "np.savetxt(\"subm_nn.csv\", subm_set, delimiter=\",\", header=\"id,cuisine\", fmt=\"%d,%s\", comments=\"\")"
   ]
  },
  {
   "cell_type": "markdown",
   "metadata": {},
   "source": [
    "## Neural Network Ensemble"
   ]
  },
  {
   "cell_type": "markdown",
   "metadata": {},
   "source": [
    "The logic behind why neural network ensemble might work:\n",
    "* various ingredients might have different importance to some cuisines than to the others\n",
    "* majority voting should be a good solution to prevent overfitting data and cuisine bias\n",
    "* different sizes of neural networks have different learning capabilities\n",
    "\n",
    "Still, our dataset is relatively simple in terms of structure, so I've decided to limit NN to 2 hidden layers."
   ]
  },
  {
   "cell_type": "code",
   "execution_count": 12,
   "metadata": {
    "collapsed": true
   },
   "outputs": [],
   "source": [
    "def create_model_ens(layers, dropout):\n",
    "    model = Sequential()\n",
    "\n",
    "    model.add(Dense(layers[0], input_dim=input_dim))\n",
    "    model.add(Activation(\"relu\"))\n",
    "    model.add(Dropout(dropout[0]))\n",
    "    model.add(Dense(layers[1]))\n",
    "    model.add(Activation(\"relu\"))\n",
    "    model.add(Dropout(dropout[1]))\n",
    "    model.add(Dense(20))\n",
    "    model.add(Activation(\"softmax\"))\n",
    "    model.compile(loss='categorical_crossentropy', optimizer='adam', metrics=['accuracy'])\n",
    "    \n",
    "    return model"
   ]
  },
  {
   "cell_type": "code",
   "execution_count": 116,
   "metadata": {
    "scrolled": true
   },
   "outputs": [
    {
     "name": "stdout",
     "output_type": "stream",
     "text": [
      "[[748 898 941 926 830 582 969 926 932 957 603 734]\n",
      " [307 316 479 412 270 481 319 400 302 488 295 325]]\n",
      "[[ 0.07004371  0.08441866  0.06765143  0.07278581  0.0951458   0.00127032\n",
      "   0.04135877  0.00488128  0.00999286  0.05080663  0.02002475  0.07441542]\n",
      " [ 0.0192892   0.07008448  0.02932281  0.07744795  0.00051088  0.01128577\n",
      "   0.01109537  0.02476682  0.00232363  0.07273212  0.03400349  0.01975032]]\n"
     ]
    }
   ],
   "source": [
    "ens_size = 12\n",
    "np.random.seed(666)\n",
    "lay = np.array([np.random.randint(512, 1024, size=(ens_size,)), np.random.randint(256, 512, size=(ens_size,))])\n",
    "np.random.seed(666)\n",
    "drop = np.array([np.random.random((ens_size,)) * 0.1, np.random.random((ens_size,)) * 0.1])\n",
    "print(lay)\n",
    "print(drop)"
   ]
  },
  {
   "cell_type": "markdown",
   "metadata": {},
   "source": [
    "[564 838 321 330 702 628 893 471 665 274]\n",
    "\n",
    "[ 0.03414242  0.59558274  0.15335414  0.18259403  0.32026302  0.00676136\n",
    "  0.52242486  0.06641284  0.10614748  0.20669239]"
   ]
  },
  {
   "cell_type": "code",
   "execution_count": 117,
   "metadata": {},
   "outputs": [
    {
     "name": "stdout",
     "output_type": "stream",
     "text": [
      "748\n"
     ]
    }
   ],
   "source": [
    "print(lay[:,0][0])"
   ]
  },
  {
   "cell_type": "code",
   "execution_count": 118,
   "metadata": {
    "collapsed": true,
    "scrolled": false
   },
   "outputs": [],
   "source": [
    "nn_ensemble = [create_model_ens(lay[:,i], drop[:,i]) for i in range(ens_size)]"
   ]
  },
  {
   "cell_type": "code",
   "execution_count": 122,
   "metadata": {
    "collapsed": true
   },
   "outputs": [],
   "source": [
    "def train_evaluate_ens(ensemble, x_train, y_train, x_test, y_test):\n",
    "    result = np.zeros(y_test.shape)\n",
    "    for model in ensemble:\n",
    "        model.fit(x_train, y_train, epochs=2, batch_size=128)\n",
    "        result += model.predict(x_test, verbose = 0)\n",
    "    result = K.softmax(result)\n",
    "    print(\"RESULT \" + str(result))\n",
    "    return K.eval(K.mean(categorical_accuracy(result, y_test)))"
   ]
  },
  {
   "cell_type": "code",
   "execution_count": 123,
   "metadata": {
    "scrolled": true
   },
   "outputs": [
    {
     "name": "stdout",
     "output_type": "stream",
     "text": [
      "Running Fold 1 / 5\n",
      "Epoch 1/2\n"
     ]
    },
    {
     "ename": "KeyboardInterrupt",
     "evalue": "",
     "output_type": "error",
     "traceback": [
      "\u001b[0;31m---------------------------------------------------------------------------\u001b[0m",
      "\u001b[0;31mKeyboardInterrupt\u001b[0m                         Traceback (most recent call last)",
      "\u001b[0;32m<ipython-input-123-3472ebdd7eca>\u001b[0m in \u001b[0;36m<module>\u001b[0;34m()\u001b[0m\n\u001b[1;32m      6\u001b[0m         \u001b[0mnn_ensemble\u001b[0m \u001b[0;34m=\u001b[0m \u001b[0;32mNone\u001b[0m\u001b[0;34m\u001b[0m\u001b[0m\n\u001b[1;32m      7\u001b[0m         \u001b[0mnn_ensemble\u001b[0m \u001b[0;34m=\u001b[0m \u001b[0;34m[\u001b[0m\u001b[0mcreate_model_ens\u001b[0m\u001b[0;34m(\u001b[0m\u001b[0mlay\u001b[0m\u001b[0;34m[\u001b[0m\u001b[0;34m:\u001b[0m\u001b[0;34m,\u001b[0m\u001b[0mi\u001b[0m\u001b[0;34m]\u001b[0m\u001b[0;34m,\u001b[0m \u001b[0mdrop\u001b[0m\u001b[0;34m[\u001b[0m\u001b[0;34m:\u001b[0m\u001b[0;34m,\u001b[0m\u001b[0mi\u001b[0m\u001b[0;34m]\u001b[0m\u001b[0;34m)\u001b[0m \u001b[0;32mfor\u001b[0m \u001b[0mi\u001b[0m \u001b[0;32min\u001b[0m \u001b[0mrange\u001b[0m\u001b[0;34m(\u001b[0m\u001b[0mens_size\u001b[0m\u001b[0;34m)\u001b[0m\u001b[0;34m]\u001b[0m\u001b[0;34m\u001b[0m\u001b[0m\n\u001b[0;32m----> 8\u001b[0;31m         \u001b[0mprint\u001b[0m\u001b[0;34m(\u001b[0m\u001b[0mtrain_evaluate_ens\u001b[0m\u001b[0;34m(\u001b[0m\u001b[0mnn_ensemble\u001b[0m\u001b[0;34m,\u001b[0m \u001b[0mX_train\u001b[0m\u001b[0;34m[\u001b[0m\u001b[0mtrain\u001b[0m\u001b[0;34m]\u001b[0m\u001b[0;34m,\u001b[0m \u001b[0mY_train\u001b[0m\u001b[0;34m[\u001b[0m\u001b[0mtrain\u001b[0m\u001b[0;34m]\u001b[0m\u001b[0;34m,\u001b[0m \u001b[0mX_train\u001b[0m\u001b[0;34m[\u001b[0m\u001b[0mtest\u001b[0m\u001b[0;34m]\u001b[0m\u001b[0;34m,\u001b[0m \u001b[0mY_train\u001b[0m\u001b[0;34m[\u001b[0m\u001b[0mtest\u001b[0m\u001b[0;34m]\u001b[0m\u001b[0;34m)\u001b[0m\u001b[0;34m)\u001b[0m\u001b[0;34m\u001b[0m\u001b[0m\n\u001b[0m",
      "\u001b[0;32m<ipython-input-122-f2679a6f3d33>\u001b[0m in \u001b[0;36mtrain_evaluate_ens\u001b[0;34m(ensemble, x_train, y_train, x_test, y_test)\u001b[0m\n\u001b[1;32m      2\u001b[0m     \u001b[0mresult\u001b[0m \u001b[0;34m=\u001b[0m \u001b[0mnp\u001b[0m\u001b[0;34m.\u001b[0m\u001b[0mzeros\u001b[0m\u001b[0;34m(\u001b[0m\u001b[0my_test\u001b[0m\u001b[0;34m.\u001b[0m\u001b[0mshape\u001b[0m\u001b[0;34m)\u001b[0m\u001b[0;34m\u001b[0m\u001b[0m\n\u001b[1;32m      3\u001b[0m     \u001b[0;32mfor\u001b[0m \u001b[0mmodel\u001b[0m \u001b[0;32min\u001b[0m \u001b[0mensemble\u001b[0m\u001b[0;34m:\u001b[0m\u001b[0;34m\u001b[0m\u001b[0m\n\u001b[0;32m----> 4\u001b[0;31m         \u001b[0mmodel\u001b[0m\u001b[0;34m.\u001b[0m\u001b[0mfit\u001b[0m\u001b[0;34m(\u001b[0m\u001b[0mx_train\u001b[0m\u001b[0;34m,\u001b[0m \u001b[0my_train\u001b[0m\u001b[0;34m,\u001b[0m \u001b[0mepochs\u001b[0m\u001b[0;34m=\u001b[0m\u001b[0;36m2\u001b[0m\u001b[0;34m,\u001b[0m \u001b[0mbatch_size\u001b[0m\u001b[0;34m=\u001b[0m\u001b[0;36m128\u001b[0m\u001b[0;34m)\u001b[0m\u001b[0;34m\u001b[0m\u001b[0m\n\u001b[0m\u001b[1;32m      5\u001b[0m         \u001b[0mresult\u001b[0m \u001b[0;34m+=\u001b[0m \u001b[0mmodel\u001b[0m\u001b[0;34m.\u001b[0m\u001b[0mpredict\u001b[0m\u001b[0;34m(\u001b[0m\u001b[0mx_test\u001b[0m\u001b[0;34m,\u001b[0m \u001b[0mverbose\u001b[0m \u001b[0;34m=\u001b[0m \u001b[0;36m0\u001b[0m\u001b[0;34m)\u001b[0m\u001b[0;34m\u001b[0m\u001b[0m\n\u001b[1;32m      6\u001b[0m     \u001b[0mresult\u001b[0m \u001b[0;34m=\u001b[0m \u001b[0mK\u001b[0m\u001b[0;34m.\u001b[0m\u001b[0msoftmax\u001b[0m\u001b[0;34m(\u001b[0m\u001b[0mresult\u001b[0m\u001b[0;34m)\u001b[0m\u001b[0;34m\u001b[0m\u001b[0m\n",
      "\u001b[0;32m~/anaconda3/lib/python3.6/site-packages/keras/models.py\u001b[0m in \u001b[0;36mfit\u001b[0;34m(self, x, y, batch_size, epochs, verbose, callbacks, validation_split, validation_data, shuffle, class_weight, sample_weight, initial_epoch, **kwargs)\u001b[0m\n\u001b[1;32m    865\u001b[0m                               \u001b[0mclass_weight\u001b[0m\u001b[0;34m=\u001b[0m\u001b[0mclass_weight\u001b[0m\u001b[0;34m,\u001b[0m\u001b[0;34m\u001b[0m\u001b[0m\n\u001b[1;32m    866\u001b[0m                               \u001b[0msample_weight\u001b[0m\u001b[0;34m=\u001b[0m\u001b[0msample_weight\u001b[0m\u001b[0;34m,\u001b[0m\u001b[0;34m\u001b[0m\u001b[0m\n\u001b[0;32m--> 867\u001b[0;31m                               initial_epoch=initial_epoch)\n\u001b[0m\u001b[1;32m    868\u001b[0m \u001b[0;34m\u001b[0m\u001b[0m\n\u001b[1;32m    869\u001b[0m     def evaluate(self, x, y, batch_size=32, verbose=1,\n",
      "\u001b[0;32m~/anaconda3/lib/python3.6/site-packages/keras/engine/training.py\u001b[0m in \u001b[0;36mfit\u001b[0;34m(self, x, y, batch_size, epochs, verbose, callbacks, validation_split, validation_data, shuffle, class_weight, sample_weight, initial_epoch, steps_per_epoch, validation_steps, **kwargs)\u001b[0m\n\u001b[1;32m   1596\u001b[0m                               \u001b[0minitial_epoch\u001b[0m\u001b[0;34m=\u001b[0m\u001b[0minitial_epoch\u001b[0m\u001b[0;34m,\u001b[0m\u001b[0;34m\u001b[0m\u001b[0m\n\u001b[1;32m   1597\u001b[0m                               \u001b[0msteps_per_epoch\u001b[0m\u001b[0;34m=\u001b[0m\u001b[0msteps_per_epoch\u001b[0m\u001b[0;34m,\u001b[0m\u001b[0;34m\u001b[0m\u001b[0m\n\u001b[0;32m-> 1598\u001b[0;31m                               validation_steps=validation_steps)\n\u001b[0m\u001b[1;32m   1599\u001b[0m \u001b[0;34m\u001b[0m\u001b[0m\n\u001b[1;32m   1600\u001b[0m     def evaluate(self, x, y,\n",
      "\u001b[0;32m~/anaconda3/lib/python3.6/site-packages/keras/engine/training.py\u001b[0m in \u001b[0;36m_fit_loop\u001b[0;34m(self, f, ins, out_labels, batch_size, epochs, verbose, callbacks, val_f, val_ins, shuffle, callback_metrics, initial_epoch, steps_per_epoch, validation_steps)\u001b[0m\n\u001b[1;32m   1181\u001b[0m                     \u001b[0mbatch_logs\u001b[0m\u001b[0;34m[\u001b[0m\u001b[0;34m'size'\u001b[0m\u001b[0;34m]\u001b[0m \u001b[0;34m=\u001b[0m \u001b[0mlen\u001b[0m\u001b[0;34m(\u001b[0m\u001b[0mbatch_ids\u001b[0m\u001b[0;34m)\u001b[0m\u001b[0;34m\u001b[0m\u001b[0m\n\u001b[1;32m   1182\u001b[0m                     \u001b[0mcallbacks\u001b[0m\u001b[0;34m.\u001b[0m\u001b[0mon_batch_begin\u001b[0m\u001b[0;34m(\u001b[0m\u001b[0mbatch_index\u001b[0m\u001b[0;34m,\u001b[0m \u001b[0mbatch_logs\u001b[0m\u001b[0;34m)\u001b[0m\u001b[0;34m\u001b[0m\u001b[0m\n\u001b[0;32m-> 1183\u001b[0;31m                     \u001b[0mouts\u001b[0m \u001b[0;34m=\u001b[0m \u001b[0mf\u001b[0m\u001b[0;34m(\u001b[0m\u001b[0mins_batch\u001b[0m\u001b[0;34m)\u001b[0m\u001b[0;34m\u001b[0m\u001b[0m\n\u001b[0m\u001b[1;32m   1184\u001b[0m                     \u001b[0;32mif\u001b[0m \u001b[0;32mnot\u001b[0m \u001b[0misinstance\u001b[0m\u001b[0;34m(\u001b[0m\u001b[0mouts\u001b[0m\u001b[0;34m,\u001b[0m \u001b[0mlist\u001b[0m\u001b[0;34m)\u001b[0m\u001b[0;34m:\u001b[0m\u001b[0;34m\u001b[0m\u001b[0m\n\u001b[1;32m   1185\u001b[0m                         \u001b[0mouts\u001b[0m \u001b[0;34m=\u001b[0m \u001b[0;34m[\u001b[0m\u001b[0mouts\u001b[0m\u001b[0;34m]\u001b[0m\u001b[0;34m\u001b[0m\u001b[0m\n",
      "\u001b[0;32m~/anaconda3/lib/python3.6/site-packages/keras/backend/tensorflow_backend.py\u001b[0m in \u001b[0;36m__call__\u001b[0;34m(self, inputs)\u001b[0m\n\u001b[1;32m   2268\u001b[0m                 \u001b[0mvalue\u001b[0m \u001b[0;34m=\u001b[0m \u001b[0;34m(\u001b[0m\u001b[0mindices\u001b[0m\u001b[0;34m,\u001b[0m \u001b[0msparse_coo\u001b[0m\u001b[0;34m.\u001b[0m\u001b[0mdata\u001b[0m\u001b[0;34m,\u001b[0m \u001b[0msparse_coo\u001b[0m\u001b[0;34m.\u001b[0m\u001b[0mshape\u001b[0m\u001b[0;34m)\u001b[0m\u001b[0;34m\u001b[0m\u001b[0m\n\u001b[1;32m   2269\u001b[0m             \u001b[0mfeed_dict\u001b[0m\u001b[0;34m[\u001b[0m\u001b[0mtensor\u001b[0m\u001b[0;34m]\u001b[0m \u001b[0;34m=\u001b[0m \u001b[0mvalue\u001b[0m\u001b[0;34m\u001b[0m\u001b[0m\n\u001b[0;32m-> 2270\u001b[0;31m         \u001b[0msession\u001b[0m \u001b[0;34m=\u001b[0m \u001b[0mget_session\u001b[0m\u001b[0;34m(\u001b[0m\u001b[0;34m)\u001b[0m\u001b[0;34m\u001b[0m\u001b[0m\n\u001b[0m\u001b[1;32m   2271\u001b[0m         updated = session.run(self.outputs + [self.updates_op],\n\u001b[1;32m   2272\u001b[0m                               \u001b[0mfeed_dict\u001b[0m\u001b[0;34m=\u001b[0m\u001b[0mfeed_dict\u001b[0m\u001b[0;34m,\u001b[0m\u001b[0;34m\u001b[0m\u001b[0m\n",
      "\u001b[0;32m~/anaconda3/lib/python3.6/site-packages/keras/backend/tensorflow_backend.py\u001b[0m in \u001b[0;36mget_session\u001b[0;34m()\u001b[0m\n\u001b[1;32m    165\u001b[0m     \u001b[0;32mif\u001b[0m \u001b[0;32mnot\u001b[0m \u001b[0m_MANUAL_VAR_INIT\u001b[0m\u001b[0;34m:\u001b[0m\u001b[0;34m\u001b[0m\u001b[0m\n\u001b[1;32m    166\u001b[0m         \u001b[0;32mwith\u001b[0m \u001b[0msession\u001b[0m\u001b[0;34m.\u001b[0m\u001b[0mgraph\u001b[0m\u001b[0;34m.\u001b[0m\u001b[0mas_default\u001b[0m\u001b[0;34m(\u001b[0m\u001b[0;34m)\u001b[0m\u001b[0;34m:\u001b[0m\u001b[0;34m\u001b[0m\u001b[0m\n\u001b[0;32m--> 167\u001b[0;31m             \u001b[0m_initialize_variables\u001b[0m\u001b[0;34m(\u001b[0m\u001b[0;34m)\u001b[0m\u001b[0;34m\u001b[0m\u001b[0m\n\u001b[0m\u001b[1;32m    168\u001b[0m     \u001b[0;32mreturn\u001b[0m \u001b[0msession\u001b[0m\u001b[0;34m\u001b[0m\u001b[0m\n\u001b[1;32m    169\u001b[0m \u001b[0;34m\u001b[0m\u001b[0m\n",
      "\u001b[0;32m~/anaconda3/lib/python3.6/site-packages/keras/backend/tensorflow_backend.py\u001b[0m in \u001b[0;36m_initialize_variables\u001b[0;34m()\u001b[0m\n\u001b[1;32m    339\u001b[0m     \u001b[0;32mif\u001b[0m \u001b[0muninitialized_variables\u001b[0m\u001b[0;34m:\u001b[0m\u001b[0;34m\u001b[0m\u001b[0m\n\u001b[1;32m    340\u001b[0m         \u001b[0msess\u001b[0m \u001b[0;34m=\u001b[0m \u001b[0mget_session\u001b[0m\u001b[0;34m(\u001b[0m\u001b[0;34m)\u001b[0m\u001b[0;34m\u001b[0m\u001b[0m\n\u001b[0;32m--> 341\u001b[0;31m         \u001b[0msess\u001b[0m\u001b[0;34m.\u001b[0m\u001b[0mrun\u001b[0m\u001b[0;34m(\u001b[0m\u001b[0mtf\u001b[0m\u001b[0;34m.\u001b[0m\u001b[0mvariables_initializer\u001b[0m\u001b[0;34m(\u001b[0m\u001b[0muninitialized_variables\u001b[0m\u001b[0;34m)\u001b[0m\u001b[0;34m)\u001b[0m\u001b[0;34m\u001b[0m\u001b[0m\n\u001b[0m\u001b[1;32m    342\u001b[0m \u001b[0;34m\u001b[0m\u001b[0m\n\u001b[1;32m    343\u001b[0m \u001b[0;34m\u001b[0m\u001b[0m\n",
      "\u001b[0;32m~/anaconda3/lib/python3.6/site-packages/tensorflow/python/client/session.py\u001b[0m in \u001b[0;36mrun\u001b[0;34m(self, fetches, feed_dict, options, run_metadata)\u001b[0m\n\u001b[1;32m    893\u001b[0m     \u001b[0;32mtry\u001b[0m\u001b[0;34m:\u001b[0m\u001b[0;34m\u001b[0m\u001b[0m\n\u001b[1;32m    894\u001b[0m       result = self._run(None, fetches, feed_dict, options_ptr,\n\u001b[0;32m--> 895\u001b[0;31m                          run_metadata_ptr)\n\u001b[0m\u001b[1;32m    896\u001b[0m       \u001b[0;32mif\u001b[0m \u001b[0mrun_metadata\u001b[0m\u001b[0;34m:\u001b[0m\u001b[0;34m\u001b[0m\u001b[0m\n\u001b[1;32m    897\u001b[0m         \u001b[0mproto_data\u001b[0m \u001b[0;34m=\u001b[0m \u001b[0mtf_session\u001b[0m\u001b[0;34m.\u001b[0m\u001b[0mTF_GetBuffer\u001b[0m\u001b[0;34m(\u001b[0m\u001b[0mrun_metadata_ptr\u001b[0m\u001b[0;34m)\u001b[0m\u001b[0;34m\u001b[0m\u001b[0m\n",
      "\u001b[0;32m~/anaconda3/lib/python3.6/site-packages/tensorflow/python/client/session.py\u001b[0m in \u001b[0;36m_run\u001b[0;34m(self, handle, fetches, feed_dict, options, run_metadata)\u001b[0m\n\u001b[1;32m   1122\u001b[0m     \u001b[0;32mif\u001b[0m \u001b[0mfinal_fetches\u001b[0m \u001b[0;32mor\u001b[0m \u001b[0mfinal_targets\u001b[0m \u001b[0;32mor\u001b[0m \u001b[0;34m(\u001b[0m\u001b[0mhandle\u001b[0m \u001b[0;32mand\u001b[0m \u001b[0mfeed_dict_tensor\u001b[0m\u001b[0;34m)\u001b[0m\u001b[0;34m:\u001b[0m\u001b[0;34m\u001b[0m\u001b[0m\n\u001b[1;32m   1123\u001b[0m       results = self._do_run(handle, final_targets, final_fetches,\n\u001b[0;32m-> 1124\u001b[0;31m                              feed_dict_tensor, options, run_metadata)\n\u001b[0m\u001b[1;32m   1125\u001b[0m     \u001b[0;32melse\u001b[0m\u001b[0;34m:\u001b[0m\u001b[0;34m\u001b[0m\u001b[0m\n\u001b[1;32m   1126\u001b[0m       \u001b[0mresults\u001b[0m \u001b[0;34m=\u001b[0m \u001b[0;34m[\u001b[0m\u001b[0;34m]\u001b[0m\u001b[0;34m\u001b[0m\u001b[0m\n",
      "\u001b[0;32m~/anaconda3/lib/python3.6/site-packages/tensorflow/python/client/session.py\u001b[0m in \u001b[0;36m_do_run\u001b[0;34m(self, handle, target_list, fetch_list, feed_dict, options, run_metadata)\u001b[0m\n\u001b[1;32m   1319\u001b[0m     \u001b[0;32mif\u001b[0m \u001b[0mhandle\u001b[0m \u001b[0;32mis\u001b[0m \u001b[0;32mNone\u001b[0m\u001b[0;34m:\u001b[0m\u001b[0;34m\u001b[0m\u001b[0m\n\u001b[1;32m   1320\u001b[0m       return self._do_call(_run_fn, self._session, feeds, fetches, targets,\n\u001b[0;32m-> 1321\u001b[0;31m                            options, run_metadata)\n\u001b[0m\u001b[1;32m   1322\u001b[0m     \u001b[0;32melse\u001b[0m\u001b[0;34m:\u001b[0m\u001b[0;34m\u001b[0m\u001b[0m\n\u001b[1;32m   1323\u001b[0m       \u001b[0;32mreturn\u001b[0m \u001b[0mself\u001b[0m\u001b[0;34m.\u001b[0m\u001b[0m_do_call\u001b[0m\u001b[0;34m(\u001b[0m\u001b[0m_prun_fn\u001b[0m\u001b[0;34m,\u001b[0m \u001b[0mself\u001b[0m\u001b[0;34m.\u001b[0m\u001b[0m_session\u001b[0m\u001b[0;34m,\u001b[0m \u001b[0mhandle\u001b[0m\u001b[0;34m,\u001b[0m \u001b[0mfeeds\u001b[0m\u001b[0;34m,\u001b[0m \u001b[0mfetches\u001b[0m\u001b[0;34m)\u001b[0m\u001b[0;34m\u001b[0m\u001b[0m\n",
      "\u001b[0;32m~/anaconda3/lib/python3.6/site-packages/tensorflow/python/client/session.py\u001b[0m in \u001b[0;36m_do_call\u001b[0;34m(self, fn, *args)\u001b[0m\n\u001b[1;32m   1325\u001b[0m   \u001b[0;32mdef\u001b[0m \u001b[0m_do_call\u001b[0m\u001b[0;34m(\u001b[0m\u001b[0mself\u001b[0m\u001b[0;34m,\u001b[0m \u001b[0mfn\u001b[0m\u001b[0;34m,\u001b[0m \u001b[0;34m*\u001b[0m\u001b[0margs\u001b[0m\u001b[0;34m)\u001b[0m\u001b[0;34m:\u001b[0m\u001b[0;34m\u001b[0m\u001b[0m\n\u001b[1;32m   1326\u001b[0m     \u001b[0;32mtry\u001b[0m\u001b[0;34m:\u001b[0m\u001b[0;34m\u001b[0m\u001b[0m\n\u001b[0;32m-> 1327\u001b[0;31m       \u001b[0;32mreturn\u001b[0m \u001b[0mfn\u001b[0m\u001b[0;34m(\u001b[0m\u001b[0;34m*\u001b[0m\u001b[0margs\u001b[0m\u001b[0;34m)\u001b[0m\u001b[0;34m\u001b[0m\u001b[0m\n\u001b[0m\u001b[1;32m   1328\u001b[0m     \u001b[0;32mexcept\u001b[0m \u001b[0merrors\u001b[0m\u001b[0;34m.\u001b[0m\u001b[0mOpError\u001b[0m \u001b[0;32mas\u001b[0m \u001b[0me\u001b[0m\u001b[0;34m:\u001b[0m\u001b[0;34m\u001b[0m\u001b[0m\n\u001b[1;32m   1329\u001b[0m       \u001b[0mmessage\u001b[0m \u001b[0;34m=\u001b[0m \u001b[0mcompat\u001b[0m\u001b[0;34m.\u001b[0m\u001b[0mas_text\u001b[0m\u001b[0;34m(\u001b[0m\u001b[0me\u001b[0m\u001b[0;34m.\u001b[0m\u001b[0mmessage\u001b[0m\u001b[0;34m)\u001b[0m\u001b[0;34m\u001b[0m\u001b[0m\n",
      "\u001b[0;32m~/anaconda3/lib/python3.6/site-packages/tensorflow/python/client/session.py\u001b[0m in \u001b[0;36m_run_fn\u001b[0;34m(session, feed_dict, fetch_list, target_list, options, run_metadata)\u001b[0m\n\u001b[1;32m   1295\u001b[0m                 run_metadata):\n\u001b[1;32m   1296\u001b[0m       \u001b[0;31m# Ensure any changes to the graph are reflected in the runtime.\u001b[0m\u001b[0;34m\u001b[0m\u001b[0;34m\u001b[0m\u001b[0m\n\u001b[0;32m-> 1297\u001b[0;31m       \u001b[0mself\u001b[0m\u001b[0;34m.\u001b[0m\u001b[0m_extend_graph\u001b[0m\u001b[0;34m(\u001b[0m\u001b[0;34m)\u001b[0m\u001b[0;34m\u001b[0m\u001b[0m\n\u001b[0m\u001b[1;32m   1298\u001b[0m       \u001b[0;32mwith\u001b[0m \u001b[0merrors\u001b[0m\u001b[0;34m.\u001b[0m\u001b[0mraise_exception_on_not_ok_status\u001b[0m\u001b[0;34m(\u001b[0m\u001b[0;34m)\u001b[0m \u001b[0;32mas\u001b[0m \u001b[0mstatus\u001b[0m\u001b[0;34m:\u001b[0m\u001b[0;34m\u001b[0m\u001b[0m\n\u001b[1;32m   1299\u001b[0m         \u001b[0;32mif\u001b[0m \u001b[0mself\u001b[0m\u001b[0;34m.\u001b[0m\u001b[0m_created_with_new_api\u001b[0m\u001b[0;34m:\u001b[0m\u001b[0;34m\u001b[0m\u001b[0m\n",
      "\u001b[0;32m~/anaconda3/lib/python3.6/site-packages/tensorflow/python/client/session.py\u001b[0m in \u001b[0;36m_extend_graph\u001b[0;34m(self)\u001b[0m\n\u001b[1;32m   1356\u001b[0m         \u001b[0;32mwith\u001b[0m \u001b[0merrors\u001b[0m\u001b[0;34m.\u001b[0m\u001b[0mraise_exception_on_not_ok_status\u001b[0m\u001b[0;34m(\u001b[0m\u001b[0;34m)\u001b[0m \u001b[0;32mas\u001b[0m \u001b[0mstatus\u001b[0m\u001b[0;34m:\u001b[0m\u001b[0;34m\u001b[0m\u001b[0m\n\u001b[1;32m   1357\u001b[0m           tf_session.TF_ExtendGraph(\n\u001b[0;32m-> 1358\u001b[0;31m               self._session, graph_def.SerializeToString(), status)\n\u001b[0m\u001b[1;32m   1359\u001b[0m         \u001b[0mself\u001b[0m\u001b[0;34m.\u001b[0m\u001b[0m_opened\u001b[0m \u001b[0;34m=\u001b[0m \u001b[0;32mTrue\u001b[0m\u001b[0;34m\u001b[0m\u001b[0m\n\u001b[1;32m   1360\u001b[0m \u001b[0;34m\u001b[0m\u001b[0m\n",
      "\u001b[0;31mKeyboardInterrupt\u001b[0m: "
     ]
    }
   ],
   "source": [
    "n_folds = 5\n",
    "skf = StratifiedKFold(Y_raw, n_folds=n_folds, shuffle=True)\n",
    "\n",
    "for i, (train, test) in enumerate(skf):\n",
    "        print(\"Running Fold %d / %d\" % (i+1, n_folds))\n",
    "        nn_ensemble = None\n",
    "        nn_ensemble = [create_model_ens(lay[:,i], drop[:,i]) for i in range(ens_size)]\n",
    "        print(train_evaluate_ens(nn_ensemble, X_train[train], Y_train[train], X_train[test], Y_train[test]))"
   ]
  },
  {
   "cell_type": "markdown",
   "metadata": {},
   "source": [
    "### Majority voting vs neural network"
   ]
  },
  {
   "cell_type": "code",
   "execution_count": 242,
   "metadata": {
    "collapsed": true
   },
   "outputs": [],
   "source": [
    "def create_ens_classifier():\n",
    "    model = Sequential()\n",
    "    model.add(Dense(20, input_dim=ens_size * 20))\n",
    "    model.add(Activation('softmax'))\n",
    "    model.compile(loss='categorical_crossentropy', optimizer='adam', metrics=['accuracy'])\n",
    "    \n",
    "    return model"
   ]
  },
  {
   "cell_type": "code",
   "execution_count": 247,
   "metadata": {
    "collapsed": true
   },
   "outputs": [],
   "source": [
    "ens_classifier = create_ens_classifier()\n",
    "\n",
    "def train_eval_ens_class(ens_class, ensemble, x_train, y_train, x_test, y_test):\n",
    "    input_ens_class_train = []\n",
    "    for model in ensemble:\n",
    "        model.fit(x_train, y_train, epochs=7, batch_size=128)\n",
    "        input_ens_class_train.append(model.predict(x_train, verbose = 0))\n",
    "    input_ens_class_train = np.array(input_ens_class_train).transpose(1, 0, 2)\n",
    "    input_ens_class_train = input_ens_class_train.reshape(input_ens_class_train.shape[0], -1)\n",
    "\n",
    "    ens_class.fit(input_ens_class_train, y_train, epochs=4, batch_size = 128)\n",
    "    \n",
    "    input_ens_class_test = []\n",
    "    for model in ensemble:\n",
    "        input_ens_class_test.append(model.predict(x_test, verbose = 0))\n",
    "    input_ens_class_test = np.array(input_ens_class_test).transpose(1, 0, 2)\n",
    "    input_ens_class_test = input_ens_class_test.reshape(input_ens_class_test.shape[0], -1)\n",
    "    \n",
    "    return ens_class.evaluate(input_ens_class_test, y_test)"
   ]
  },
  {
   "cell_type": "code",
   "execution_count": 248,
   "metadata": {
    "scrolled": true
   },
   "outputs": [
    {
     "name": "stdout",
     "output_type": "stream",
     "text": [
      "Running Fold 1 / 5\n",
      "Epoch 1/7\n",
      "  896/23994 [>.............................] - ETA: 444s - loss: 2.8122 - acc: 0.2121"
     ]
    },
    {
     "name": "stderr",
     "output_type": "stream",
     "text": [
      "/home/szarki/anaconda3/lib/python3.6/site-packages/keras/callbacks.py:120: UserWarning: Method on_batch_end() is slow compared to the batch update (0.358741). Check your callbacks.\n",
      "  % delta_t_median)\n"
     ]
    },
    {
     "name": "stdout",
     "output_type": "stream",
     "text": [
      "23994/23994 [==============================] - 22s - loss: 1.3433 - acc: 0.6212    \n",
      "Epoch 2/7\n",
      "23994/23994 [==============================] - 5s - loss: 0.7749 - acc: 0.7699     \n",
      "Epoch 3/7\n",
      "23994/23994 [==============================] - 5s - loss: 0.6322 - acc: 0.8102     \n",
      "Epoch 4/7\n",
      "23994/23994 [==============================] - 5s - loss: 0.5279 - acc: 0.8388     \n",
      "Epoch 5/7\n",
      "23994/23994 [==============================] - 5s - loss: 0.4572 - acc: 0.8593     \n",
      "Epoch 6/7\n",
      "23994/23994 [==============================] - 5s - loss: 0.3931 - acc: 0.8770     \n",
      "Epoch 7/7\n",
      "23994/23994 [==============================] - 5s - loss: 0.3416 - acc: 0.8920     \n",
      "Epoch 1/7\n",
      "23994/23994 [==============================] - 11s - loss: 1.6637 - acc: 0.5426    \n",
      "Epoch 2/7\n",
      "23994/23994 [==============================] - 6s - loss: 1.0643 - acc: 0.6970     \n",
      "Epoch 3/7\n",
      "23994/23994 [==============================] - 6s - loss: 0.8895 - acc: 0.7448     \n",
      "Epoch 4/7\n",
      "23994/23994 [==============================] - 6s - loss: 0.7899 - acc: 0.7702     \n",
      "Epoch 5/7\n",
      "23994/23994 [==============================] - 6s - loss: 0.7210 - acc: 0.7933     \n",
      "Epoch 6/7\n",
      "23994/23994 [==============================] - 6s - loss: 0.6571 - acc: 0.8087     \n",
      "Epoch 7/7\n",
      "23994/23994 [==============================] - 6s - loss: 0.6039 - acc: 0.8242     \n",
      "Epoch 1/7\n",
      "23994/23994 [==============================] - 9s - loss: 1.4676 - acc: 0.5977     \n",
      "Epoch 2/7\n",
      "23994/23994 [==============================] - 4s - loss: 0.8372 - acc: 0.7555     \n",
      "Epoch 3/7\n",
      "23994/23994 [==============================] - 4s - loss: 0.6930 - acc: 0.7945     \n",
      "Epoch 4/7\n",
      "23994/23994 [==============================] - 4s - loss: 0.6044 - acc: 0.8179     \n",
      "Epoch 5/7\n",
      "23994/23994 [==============================] - 4s - loss: 0.5326 - acc: 0.8391     \n",
      "Epoch 6/7\n",
      "23994/23994 [==============================] - 4s - loss: 0.4752 - acc: 0.8539     \n",
      "Epoch 7/7\n",
      "23994/23994 [==============================] - 4s - loss: 0.4284 - acc: 0.8706     \n",
      "Epoch 1/7\n",
      "23994/23994 [==============================] - 11s - loss: 1.4629 - acc: 0.5911    \n",
      "Epoch 2/7\n",
      "23994/23994 [==============================] - 6s - loss: 0.8727 - acc: 0.7444     \n",
      "Epoch 3/7\n",
      "23994/23994 [==============================] - 6s - loss: 0.7066 - acc: 0.7917     \n",
      "Epoch 4/7\n",
      "23994/23994 [==============================] - 6s - loss: 0.6086 - acc: 0.8169     \n",
      "Epoch 5/7\n",
      "23994/23994 [==============================] - 6s - loss: 0.5283 - acc: 0.8409     \n",
      "Epoch 6/7\n",
      "23994/23994 [==============================] - 6s - loss: 0.4633 - acc: 0.8588     \n",
      "Epoch 7/7\n",
      "23994/23994 [==============================] - 6s - loss: 0.4052 - acc: 0.8760     \n",
      "Epoch 1/7\n",
      "23994/23994 [==============================] - 11s - loss: 1.4804 - acc: 0.5841    \n",
      "Epoch 2/7\n",
      "23994/23994 [==============================] - 5s - loss: 0.8937 - acc: 0.7390     \n",
      "Epoch 3/7\n",
      "23994/23994 [==============================] - 5s - loss: 0.7429 - acc: 0.7798     \n",
      "Epoch 4/7\n",
      "23994/23994 [==============================] - 5s - loss: 0.6474 - acc: 0.8080     \n",
      "Epoch 5/7\n",
      "23994/23994 [==============================] - 5s - loss: 0.5832 - acc: 0.8255     \n",
      "Epoch 6/7\n",
      "23994/23994 [==============================] - 6s - loss: 0.5270 - acc: 0.8399     \n",
      "Epoch 7/7\n",
      "23994/23994 [==============================] - 6s - loss: 0.4802 - acc: 0.8548     \n",
      "Epoch 1/7\n",
      "23994/23994 [==============================] - 10s - loss: 1.5172 - acc: 0.5806    \n",
      "Epoch 2/7\n",
      "23994/23994 [==============================] - 4s - loss: 0.9035 - acc: 0.7416     \n",
      "Epoch 3/7\n",
      "23994/23994 [==============================] - 4s - loss: 0.7445 - acc: 0.7897     \n",
      "Epoch 4/7\n",
      "23994/23994 [==============================] - 4s - loss: 0.6445 - acc: 0.8115     \n",
      "Epoch 5/7\n",
      "23994/23994 [==============================] - 4s - loss: 0.5622 - acc: 0.8371     \n",
      "Epoch 6/7\n",
      "23994/23994 [==============================] - 4s - loss: 0.5010 - acc: 0.8531     \n",
      "Epoch 7/7\n",
      "23994/23994 [==============================] - 4s - loss: 0.4366 - acc: 0.8699     \n",
      "Epoch 1/7\n",
      "23994/23994 [==============================] - 11s - loss: 1.2568 - acc: 0.6527    \n",
      "Epoch 2/7\n",
      "23994/23994 [==============================] - 5s - loss: 0.7040 - acc: 0.7939     \n",
      "Epoch 3/7\n",
      "23994/23994 [==============================] - 5s - loss: 0.5609 - acc: 0.8332     \n",
      "Epoch 4/7\n",
      "23994/23994 [==============================] - 5s - loss: 0.4632 - acc: 0.8606     \n",
      "Epoch 5/7\n",
      "23994/23994 [==============================] - 5s - loss: 0.3810 - acc: 0.8850     \n",
      "Epoch 6/7\n",
      "23994/23994 [==============================] - 5s - loss: 0.3177 - acc: 0.9024     \n",
      "Epoch 7/7\n",
      "23994/23994 [==============================] - 5s - loss: 0.2629 - acc: 0.9212     \n",
      "Epoch 1/7\n",
      "23994/23994 [==============================] - 15s - loss: 1.1309 - acc: 0.6824    \n",
      "Epoch 2/7\n",
      "23994/23994 [==============================] - 7s - loss: 0.6251 - acc: 0.8168     \n",
      "Epoch 3/7\n",
      "23994/23994 [==============================] - 7s - loss: 0.4587 - acc: 0.8607     \n",
      "Epoch 4/7\n",
      "23994/23994 [==============================] - 7s - loss: 0.3389 - acc: 0.8965     \n",
      "Epoch 5/7\n",
      "23994/23994 [==============================] - 7s - loss: 0.2418 - acc: 0.9271     \n",
      "Epoch 6/7\n",
      "23994/23994 [==============================] - 7s - loss: 0.1701 - acc: 0.9515     \n",
      "Epoch 7/7\n",
      "23994/23994 [==============================] - 7s - loss: 0.1118 - acc: 0.9702     \n",
      "Epoch 1/7\n",
      "23994/23994 [==============================] - 10s - loss: 1.2832 - acc: 0.6408    \n",
      "Epoch 2/7\n",
      "23994/23994 [==============================] - 4s - loss: 0.7078 - acc: 0.7932     \n",
      "Epoch 3/7\n",
      "23994/23994 [==============================] - 4s - loss: 0.5656 - acc: 0.8317     \n",
      "Epoch 4/7\n",
      "23994/23994 [==============================] - 4s - loss: 0.4690 - acc: 0.8580     \n",
      "Epoch 5/7\n",
      "23994/23994 [==============================] - 4s - loss: 0.3973 - acc: 0.8789     \n",
      "Epoch 6/7\n",
      "23994/23994 [==============================] - 4s - loss: 0.3309 - acc: 0.8997     \n",
      "Epoch 7/7\n",
      "23994/23994 [==============================] - 4s - loss: 0.2773 - acc: 0.9151     \n",
      "Epoch 1/7\n",
      "23994/23994 [==============================] - 13s - loss: 1.2095 - acc: 0.6588    \n",
      "Epoch 2/7\n",
      "23994/23994 [==============================] - 8s - loss: 0.6957 - acc: 0.7943     \n",
      "Epoch 3/7\n",
      "23994/23994 [==============================] - 7s - loss: 0.5380 - acc: 0.8370     \n",
      "Epoch 4/7\n",
      "23994/23994 [==============================] - 7s - loss: 0.4264 - acc: 0.8731     \n",
      "Epoch 5/7\n",
      "23994/23994 [==============================] - 7s - loss: 0.3390 - acc: 0.8984     \n",
      "Epoch 6/7\n",
      "23994/23994 [==============================] - 7s - loss: 0.2703 - acc: 0.9164     \n",
      "Epoch 7/7\n",
      "23994/23994 [==============================] - 7s - loss: 0.2055 - acc: 0.9380     \n",
      "Epoch 1/4\n",
      "23994/23994 [==============================] - 7s - loss: 1.7738 - acc: 0.8019     \n",
      "Epoch 2/4\n",
      "23994/23994 [==============================] - 1s - loss: 0.5452 - acc: 0.9586     \n",
      "Epoch 3/4\n",
      "23994/23994 [==============================] - 1s - loss: 0.2913 - acc: 0.9615     \n",
      "Epoch 4/4\n",
      "23994/23994 [==============================] - 1s - loss: 0.2142 - acc: 0.9638     \n",
      "5984/6006 [============================>.] - ETA: 0s[0.82056452554740233, 0.78937728941698615]\n",
      "Running Fold 2 / 5\n",
      "Epoch 1/7\n",
      "12160/23998 [==============>...............] - ETA: 8s - loss: 1.6855 - acc: 0.5337"
     ]
    },
    {
     "ename": "KeyboardInterrupt",
     "evalue": "",
     "output_type": "error",
     "traceback": [
      "\u001b[0;31m---------------------------------------------------------------------------\u001b[0m",
      "\u001b[0;31mKeyboardInterrupt\u001b[0m                         Traceback (most recent call last)",
      "\u001b[0;32m<ipython-input-248-b90da42fcba1>\u001b[0m in \u001b[0;36m<module>\u001b[0;34m()\u001b[0m\n\u001b[1;32m      8\u001b[0m     \u001b[0mnn_ensemble\u001b[0m \u001b[0;34m=\u001b[0m \u001b[0;32mNone\u001b[0m\u001b[0;34m\u001b[0m\u001b[0m\n\u001b[1;32m      9\u001b[0m     \u001b[0mnn_ensemble\u001b[0m \u001b[0;34m=\u001b[0m \u001b[0;34m[\u001b[0m\u001b[0mcreate_model_ens\u001b[0m\u001b[0;34m(\u001b[0m\u001b[0mlay\u001b[0m\u001b[0;34m[\u001b[0m\u001b[0;34m:\u001b[0m\u001b[0;34m,\u001b[0m\u001b[0mi\u001b[0m\u001b[0;34m]\u001b[0m\u001b[0;34m,\u001b[0m \u001b[0mdrop\u001b[0m\u001b[0;34m[\u001b[0m\u001b[0;34m:\u001b[0m\u001b[0;34m,\u001b[0m\u001b[0mi\u001b[0m\u001b[0;34m]\u001b[0m\u001b[0;34m)\u001b[0m \u001b[0;32mfor\u001b[0m \u001b[0mi\u001b[0m \u001b[0;32min\u001b[0m \u001b[0mrange\u001b[0m\u001b[0;34m(\u001b[0m\u001b[0mens_size\u001b[0m\u001b[0;34m)\u001b[0m\u001b[0;34m]\u001b[0m\u001b[0;34m\u001b[0m\u001b[0m\n\u001b[0;32m---> 10\u001b[0;31m     \u001b[0mprint\u001b[0m\u001b[0;34m(\u001b[0m\u001b[0mtrain_eval_ens_class\u001b[0m\u001b[0;34m(\u001b[0m\u001b[0mens_classifier\u001b[0m\u001b[0;34m,\u001b[0m \u001b[0mnn_ensemble\u001b[0m\u001b[0;34m,\u001b[0m \u001b[0mX_train\u001b[0m\u001b[0;34m[\u001b[0m\u001b[0mtrain\u001b[0m\u001b[0;34m]\u001b[0m\u001b[0;34m,\u001b[0m \u001b[0mY_train\u001b[0m\u001b[0;34m[\u001b[0m\u001b[0mtrain\u001b[0m\u001b[0;34m]\u001b[0m\u001b[0;34m,\u001b[0m \u001b[0mX_train\u001b[0m\u001b[0;34m[\u001b[0m\u001b[0mtest\u001b[0m\u001b[0;34m]\u001b[0m\u001b[0;34m,\u001b[0m \u001b[0mY_train\u001b[0m\u001b[0;34m[\u001b[0m\u001b[0mtest\u001b[0m\u001b[0;34m]\u001b[0m\u001b[0;34m)\u001b[0m\u001b[0;34m)\u001b[0m\u001b[0;34m\u001b[0m\u001b[0m\n\u001b[0m",
      "\u001b[0;32m<ipython-input-247-26883e964c86>\u001b[0m in \u001b[0;36mtrain_eval_ens_class\u001b[0;34m(ens_class, ensemble, x_train, y_train, x_test, y_test)\u001b[0m\n\u001b[1;32m      4\u001b[0m     \u001b[0minput_ens_class_train\u001b[0m \u001b[0;34m=\u001b[0m \u001b[0;34m[\u001b[0m\u001b[0;34m]\u001b[0m\u001b[0;34m\u001b[0m\u001b[0m\n\u001b[1;32m      5\u001b[0m     \u001b[0;32mfor\u001b[0m \u001b[0mmodel\u001b[0m \u001b[0;32min\u001b[0m \u001b[0mensemble\u001b[0m\u001b[0;34m:\u001b[0m\u001b[0;34m\u001b[0m\u001b[0m\n\u001b[0;32m----> 6\u001b[0;31m         \u001b[0mmodel\u001b[0m\u001b[0;34m.\u001b[0m\u001b[0mfit\u001b[0m\u001b[0;34m(\u001b[0m\u001b[0mx_train\u001b[0m\u001b[0;34m,\u001b[0m \u001b[0my_train\u001b[0m\u001b[0;34m,\u001b[0m \u001b[0mepochs\u001b[0m\u001b[0;34m=\u001b[0m\u001b[0;36m7\u001b[0m\u001b[0;34m,\u001b[0m \u001b[0mbatch_size\u001b[0m\u001b[0;34m=\u001b[0m\u001b[0;36m128\u001b[0m\u001b[0;34m)\u001b[0m\u001b[0;34m\u001b[0m\u001b[0m\n\u001b[0m\u001b[1;32m      7\u001b[0m         \u001b[0minput_ens_class_train\u001b[0m\u001b[0;34m.\u001b[0m\u001b[0mappend\u001b[0m\u001b[0;34m(\u001b[0m\u001b[0mmodel\u001b[0m\u001b[0;34m.\u001b[0m\u001b[0mpredict\u001b[0m\u001b[0;34m(\u001b[0m\u001b[0mx_train\u001b[0m\u001b[0;34m,\u001b[0m \u001b[0mverbose\u001b[0m \u001b[0;34m=\u001b[0m \u001b[0;36m0\u001b[0m\u001b[0;34m)\u001b[0m\u001b[0;34m)\u001b[0m\u001b[0;34m\u001b[0m\u001b[0m\n\u001b[1;32m      8\u001b[0m     \u001b[0minput_ens_class_train\u001b[0m \u001b[0;34m=\u001b[0m \u001b[0mnp\u001b[0m\u001b[0;34m.\u001b[0m\u001b[0marray\u001b[0m\u001b[0;34m(\u001b[0m\u001b[0minput_ens_class_train\u001b[0m\u001b[0;34m)\u001b[0m\u001b[0;34m.\u001b[0m\u001b[0mtranspose\u001b[0m\u001b[0;34m(\u001b[0m\u001b[0;36m1\u001b[0m\u001b[0;34m,\u001b[0m \u001b[0;36m0\u001b[0m\u001b[0;34m,\u001b[0m \u001b[0;36m2\u001b[0m\u001b[0;34m)\u001b[0m\u001b[0;34m\u001b[0m\u001b[0m\n",
      "\u001b[0;32m~/anaconda3/lib/python3.6/site-packages/keras/models.py\u001b[0m in \u001b[0;36mfit\u001b[0;34m(self, x, y, batch_size, epochs, verbose, callbacks, validation_split, validation_data, shuffle, class_weight, sample_weight, initial_epoch, **kwargs)\u001b[0m\n\u001b[1;32m    865\u001b[0m                               \u001b[0mclass_weight\u001b[0m\u001b[0;34m=\u001b[0m\u001b[0mclass_weight\u001b[0m\u001b[0;34m,\u001b[0m\u001b[0;34m\u001b[0m\u001b[0m\n\u001b[1;32m    866\u001b[0m                               \u001b[0msample_weight\u001b[0m\u001b[0;34m=\u001b[0m\u001b[0msample_weight\u001b[0m\u001b[0;34m,\u001b[0m\u001b[0;34m\u001b[0m\u001b[0m\n\u001b[0;32m--> 867\u001b[0;31m                               initial_epoch=initial_epoch)\n\u001b[0m\u001b[1;32m    868\u001b[0m \u001b[0;34m\u001b[0m\u001b[0m\n\u001b[1;32m    869\u001b[0m     def evaluate(self, x, y, batch_size=32, verbose=1,\n",
      "\u001b[0;32m~/anaconda3/lib/python3.6/site-packages/keras/engine/training.py\u001b[0m in \u001b[0;36mfit\u001b[0;34m(self, x, y, batch_size, epochs, verbose, callbacks, validation_split, validation_data, shuffle, class_weight, sample_weight, initial_epoch, steps_per_epoch, validation_steps, **kwargs)\u001b[0m\n\u001b[1;32m   1596\u001b[0m                               \u001b[0minitial_epoch\u001b[0m\u001b[0;34m=\u001b[0m\u001b[0minitial_epoch\u001b[0m\u001b[0;34m,\u001b[0m\u001b[0;34m\u001b[0m\u001b[0m\n\u001b[1;32m   1597\u001b[0m                               \u001b[0msteps_per_epoch\u001b[0m\u001b[0;34m=\u001b[0m\u001b[0msteps_per_epoch\u001b[0m\u001b[0;34m,\u001b[0m\u001b[0;34m\u001b[0m\u001b[0m\n\u001b[0;32m-> 1598\u001b[0;31m                               validation_steps=validation_steps)\n\u001b[0m\u001b[1;32m   1599\u001b[0m \u001b[0;34m\u001b[0m\u001b[0m\n\u001b[1;32m   1600\u001b[0m     def evaluate(self, x, y,\n",
      "\u001b[0;32m~/anaconda3/lib/python3.6/site-packages/keras/engine/training.py\u001b[0m in \u001b[0;36m_fit_loop\u001b[0;34m(self, f, ins, out_labels, batch_size, epochs, verbose, callbacks, val_f, val_ins, shuffle, callback_metrics, initial_epoch, steps_per_epoch, validation_steps)\u001b[0m\n\u001b[1;32m   1181\u001b[0m                     \u001b[0mbatch_logs\u001b[0m\u001b[0;34m[\u001b[0m\u001b[0;34m'size'\u001b[0m\u001b[0;34m]\u001b[0m \u001b[0;34m=\u001b[0m \u001b[0mlen\u001b[0m\u001b[0;34m(\u001b[0m\u001b[0mbatch_ids\u001b[0m\u001b[0;34m)\u001b[0m\u001b[0;34m\u001b[0m\u001b[0m\n\u001b[1;32m   1182\u001b[0m                     \u001b[0mcallbacks\u001b[0m\u001b[0;34m.\u001b[0m\u001b[0mon_batch_begin\u001b[0m\u001b[0;34m(\u001b[0m\u001b[0mbatch_index\u001b[0m\u001b[0;34m,\u001b[0m \u001b[0mbatch_logs\u001b[0m\u001b[0;34m)\u001b[0m\u001b[0;34m\u001b[0m\u001b[0m\n\u001b[0;32m-> 1183\u001b[0;31m                     \u001b[0mouts\u001b[0m \u001b[0;34m=\u001b[0m \u001b[0mf\u001b[0m\u001b[0;34m(\u001b[0m\u001b[0mins_batch\u001b[0m\u001b[0;34m)\u001b[0m\u001b[0;34m\u001b[0m\u001b[0m\n\u001b[0m\u001b[1;32m   1184\u001b[0m                     \u001b[0;32mif\u001b[0m \u001b[0;32mnot\u001b[0m \u001b[0misinstance\u001b[0m\u001b[0;34m(\u001b[0m\u001b[0mouts\u001b[0m\u001b[0;34m,\u001b[0m \u001b[0mlist\u001b[0m\u001b[0;34m)\u001b[0m\u001b[0;34m:\u001b[0m\u001b[0;34m\u001b[0m\u001b[0m\n\u001b[1;32m   1185\u001b[0m                         \u001b[0mouts\u001b[0m \u001b[0;34m=\u001b[0m \u001b[0;34m[\u001b[0m\u001b[0mouts\u001b[0m\u001b[0;34m]\u001b[0m\u001b[0;34m\u001b[0m\u001b[0m\n",
      "\u001b[0;32m~/anaconda3/lib/python3.6/site-packages/keras/backend/tensorflow_backend.py\u001b[0m in \u001b[0;36m__call__\u001b[0;34m(self, inputs)\u001b[0m\n\u001b[1;32m   2271\u001b[0m         updated = session.run(self.outputs + [self.updates_op],\n\u001b[1;32m   2272\u001b[0m                               \u001b[0mfeed_dict\u001b[0m\u001b[0;34m=\u001b[0m\u001b[0mfeed_dict\u001b[0m\u001b[0;34m,\u001b[0m\u001b[0;34m\u001b[0m\u001b[0m\n\u001b[0;32m-> 2273\u001b[0;31m                               **self.session_kwargs)\n\u001b[0m\u001b[1;32m   2274\u001b[0m         \u001b[0;32mreturn\u001b[0m \u001b[0mupdated\u001b[0m\u001b[0;34m[\u001b[0m\u001b[0;34m:\u001b[0m\u001b[0mlen\u001b[0m\u001b[0;34m(\u001b[0m\u001b[0mself\u001b[0m\u001b[0;34m.\u001b[0m\u001b[0moutputs\u001b[0m\u001b[0;34m)\u001b[0m\u001b[0;34m]\u001b[0m\u001b[0;34m\u001b[0m\u001b[0m\n\u001b[1;32m   2275\u001b[0m \u001b[0;34m\u001b[0m\u001b[0m\n",
      "\u001b[0;32m~/anaconda3/lib/python3.6/site-packages/tensorflow/python/client/session.py\u001b[0m in \u001b[0;36mrun\u001b[0;34m(self, fetches, feed_dict, options, run_metadata)\u001b[0m\n\u001b[1;32m    893\u001b[0m     \u001b[0;32mtry\u001b[0m\u001b[0;34m:\u001b[0m\u001b[0;34m\u001b[0m\u001b[0m\n\u001b[1;32m    894\u001b[0m       result = self._run(None, fetches, feed_dict, options_ptr,\n\u001b[0;32m--> 895\u001b[0;31m                          run_metadata_ptr)\n\u001b[0m\u001b[1;32m    896\u001b[0m       \u001b[0;32mif\u001b[0m \u001b[0mrun_metadata\u001b[0m\u001b[0;34m:\u001b[0m\u001b[0;34m\u001b[0m\u001b[0m\n\u001b[1;32m    897\u001b[0m         \u001b[0mproto_data\u001b[0m \u001b[0;34m=\u001b[0m \u001b[0mtf_session\u001b[0m\u001b[0;34m.\u001b[0m\u001b[0mTF_GetBuffer\u001b[0m\u001b[0;34m(\u001b[0m\u001b[0mrun_metadata_ptr\u001b[0m\u001b[0;34m)\u001b[0m\u001b[0;34m\u001b[0m\u001b[0m\n",
      "\u001b[0;32m~/anaconda3/lib/python3.6/site-packages/tensorflow/python/client/session.py\u001b[0m in \u001b[0;36m_run\u001b[0;34m(self, handle, fetches, feed_dict, options, run_metadata)\u001b[0m\n\u001b[1;32m   1122\u001b[0m     \u001b[0;32mif\u001b[0m \u001b[0mfinal_fetches\u001b[0m \u001b[0;32mor\u001b[0m \u001b[0mfinal_targets\u001b[0m \u001b[0;32mor\u001b[0m \u001b[0;34m(\u001b[0m\u001b[0mhandle\u001b[0m \u001b[0;32mand\u001b[0m \u001b[0mfeed_dict_tensor\u001b[0m\u001b[0;34m)\u001b[0m\u001b[0;34m:\u001b[0m\u001b[0;34m\u001b[0m\u001b[0m\n\u001b[1;32m   1123\u001b[0m       results = self._do_run(handle, final_targets, final_fetches,\n\u001b[0;32m-> 1124\u001b[0;31m                              feed_dict_tensor, options, run_metadata)\n\u001b[0m\u001b[1;32m   1125\u001b[0m     \u001b[0;32melse\u001b[0m\u001b[0;34m:\u001b[0m\u001b[0;34m\u001b[0m\u001b[0m\n\u001b[1;32m   1126\u001b[0m       \u001b[0mresults\u001b[0m \u001b[0;34m=\u001b[0m \u001b[0;34m[\u001b[0m\u001b[0;34m]\u001b[0m\u001b[0;34m\u001b[0m\u001b[0m\n",
      "\u001b[0;32m~/anaconda3/lib/python3.6/site-packages/tensorflow/python/client/session.py\u001b[0m in \u001b[0;36m_do_run\u001b[0;34m(self, handle, target_list, fetch_list, feed_dict, options, run_metadata)\u001b[0m\n\u001b[1;32m   1319\u001b[0m     \u001b[0;32mif\u001b[0m \u001b[0mhandle\u001b[0m \u001b[0;32mis\u001b[0m \u001b[0;32mNone\u001b[0m\u001b[0;34m:\u001b[0m\u001b[0;34m\u001b[0m\u001b[0m\n\u001b[1;32m   1320\u001b[0m       return self._do_call(_run_fn, self._session, feeds, fetches, targets,\n\u001b[0;32m-> 1321\u001b[0;31m                            options, run_metadata)\n\u001b[0m\u001b[1;32m   1322\u001b[0m     \u001b[0;32melse\u001b[0m\u001b[0;34m:\u001b[0m\u001b[0;34m\u001b[0m\u001b[0m\n\u001b[1;32m   1323\u001b[0m       \u001b[0;32mreturn\u001b[0m \u001b[0mself\u001b[0m\u001b[0;34m.\u001b[0m\u001b[0m_do_call\u001b[0m\u001b[0;34m(\u001b[0m\u001b[0m_prun_fn\u001b[0m\u001b[0;34m,\u001b[0m \u001b[0mself\u001b[0m\u001b[0;34m.\u001b[0m\u001b[0m_session\u001b[0m\u001b[0;34m,\u001b[0m \u001b[0mhandle\u001b[0m\u001b[0;34m,\u001b[0m \u001b[0mfeeds\u001b[0m\u001b[0;34m,\u001b[0m \u001b[0mfetches\u001b[0m\u001b[0;34m)\u001b[0m\u001b[0;34m\u001b[0m\u001b[0m\n",
      "\u001b[0;32m~/anaconda3/lib/python3.6/site-packages/tensorflow/python/client/session.py\u001b[0m in \u001b[0;36m_do_call\u001b[0;34m(self, fn, *args)\u001b[0m\n\u001b[1;32m   1325\u001b[0m   \u001b[0;32mdef\u001b[0m \u001b[0m_do_call\u001b[0m\u001b[0;34m(\u001b[0m\u001b[0mself\u001b[0m\u001b[0;34m,\u001b[0m \u001b[0mfn\u001b[0m\u001b[0;34m,\u001b[0m \u001b[0;34m*\u001b[0m\u001b[0margs\u001b[0m\u001b[0;34m)\u001b[0m\u001b[0;34m:\u001b[0m\u001b[0;34m\u001b[0m\u001b[0m\n\u001b[1;32m   1326\u001b[0m     \u001b[0;32mtry\u001b[0m\u001b[0;34m:\u001b[0m\u001b[0;34m\u001b[0m\u001b[0m\n\u001b[0;32m-> 1327\u001b[0;31m       \u001b[0;32mreturn\u001b[0m \u001b[0mfn\u001b[0m\u001b[0;34m(\u001b[0m\u001b[0;34m*\u001b[0m\u001b[0margs\u001b[0m\u001b[0;34m)\u001b[0m\u001b[0;34m\u001b[0m\u001b[0m\n\u001b[0m\u001b[1;32m   1328\u001b[0m     \u001b[0;32mexcept\u001b[0m \u001b[0merrors\u001b[0m\u001b[0;34m.\u001b[0m\u001b[0mOpError\u001b[0m \u001b[0;32mas\u001b[0m \u001b[0me\u001b[0m\u001b[0;34m:\u001b[0m\u001b[0;34m\u001b[0m\u001b[0m\n\u001b[1;32m   1329\u001b[0m       \u001b[0mmessage\u001b[0m \u001b[0;34m=\u001b[0m \u001b[0mcompat\u001b[0m\u001b[0;34m.\u001b[0m\u001b[0mas_text\u001b[0m\u001b[0;34m(\u001b[0m\u001b[0me\u001b[0m\u001b[0;34m.\u001b[0m\u001b[0mmessage\u001b[0m\u001b[0;34m)\u001b[0m\u001b[0;34m\u001b[0m\u001b[0m\n",
      "\u001b[0;32m~/anaconda3/lib/python3.6/site-packages/tensorflow/python/client/session.py\u001b[0m in \u001b[0;36m_run_fn\u001b[0;34m(session, feed_dict, fetch_list, target_list, options, run_metadata)\u001b[0m\n\u001b[1;32m   1304\u001b[0m           return tf_session.TF_Run(session, options,\n\u001b[1;32m   1305\u001b[0m                                    \u001b[0mfeed_dict\u001b[0m\u001b[0;34m,\u001b[0m \u001b[0mfetch_list\u001b[0m\u001b[0;34m,\u001b[0m \u001b[0mtarget_list\u001b[0m\u001b[0;34m,\u001b[0m\u001b[0;34m\u001b[0m\u001b[0m\n\u001b[0;32m-> 1306\u001b[0;31m                                    status, run_metadata)\n\u001b[0m\u001b[1;32m   1307\u001b[0m \u001b[0;34m\u001b[0m\u001b[0m\n\u001b[1;32m   1308\u001b[0m     \u001b[0;32mdef\u001b[0m \u001b[0m_prun_fn\u001b[0m\u001b[0;34m(\u001b[0m\u001b[0msession\u001b[0m\u001b[0;34m,\u001b[0m \u001b[0mhandle\u001b[0m\u001b[0;34m,\u001b[0m \u001b[0mfeed_dict\u001b[0m\u001b[0;34m,\u001b[0m \u001b[0mfetch_list\u001b[0m\u001b[0;34m)\u001b[0m\u001b[0;34m:\u001b[0m\u001b[0;34m\u001b[0m\u001b[0m\n",
      "\u001b[0;31mKeyboardInterrupt\u001b[0m: "
     ]
    }
   ],
   "source": [
    "n_folds = 5\n",
    "skf = StratifiedKFold(Y_raw, n_folds=n_folds, shuffle=True)\n",
    "\n",
    "for i, (train, test) in enumerate(skf):\n",
    "    ens_classifier = None\n",
    "    ens_classifier = create_ens_classifier()\n",
    "    print(\"Running Fold %d / %d\" % (i+1, n_folds))\n",
    "    nn_ensemble = None\n",
    "    nn_ensemble = [create_model_ens(lay[:,i], drop[:,i]) for i in range(ens_size)]\n",
    "    print(train_eval_ens_class(ens_classifier, nn_ensemble, X_train[train], Y_train[train], X_train[test], Y_train[test]))"
   ]
  },
  {
   "cell_type": "markdown",
   "metadata": {},
   "source": [
    "My initial tests with this method showed that it's not really superior to simple majority voting in this context."
   ]
  },
  {
   "cell_type": "markdown",
   "metadata": {},
   "source": [
    "## NN ensemble - submission"
   ]
  },
  {
   "cell_type": "code",
   "execution_count": 124,
   "metadata": {
    "collapsed": true
   },
   "outputs": [],
   "source": [
    "test = pd.read_json(\"cooking_test.json\")\n",
    "X_test = test.ingredients\n",
    "X_test = vect_in.transform(X_test).todense()"
   ]
  },
  {
   "cell_type": "code",
   "execution_count": 125,
   "metadata": {
    "scrolled": true
   },
   "outputs": [
    {
     "name": "stdout",
     "output_type": "stream",
     "text": [
      "Epoch 1/2\n",
      "30000/30000 [==============================] - 28s - loss: 0.9765 - acc: 0.7171    \n",
      "Epoch 2/2\n",
      "30000/30000 [==============================] - 15s - loss: 0.5662 - acc: 0.8288    \n",
      "Epoch 1/2\n",
      "30000/30000 [==============================] - 23s - loss: 0.9750 - acc: 0.7156    \n",
      "Epoch 2/2\n",
      "30000/30000 [==============================] - 17s - loss: 0.5587 - acc: 0.8294    \n",
      "Epoch 1/2\n",
      "30000/30000 [==============================] - 24s - loss: 0.9598 - acc: 0.7194    \n",
      "Epoch 2/2\n",
      "30000/30000 [==============================] - 18s - loss: 0.5450 - acc: 0.8335    \n",
      "Epoch 1/2\n",
      "30000/30000 [==============================] - 23s - loss: 0.9709 - acc: 0.7191    \n",
      "Epoch 2/2\n",
      "30000/30000 [==============================] - 18s - loss: 0.5545 - acc: 0.8314    \n",
      "Epoch 1/2\n",
      "30000/30000 [==============================] - 22s - loss: 0.9742 - acc: 0.7171    \n",
      "Epoch 2/2\n",
      "30000/30000 [==============================] - 16s - loss: 0.5595 - acc: 0.8300    \n",
      "Epoch 1/2\n",
      "30000/30000 [==============================] - 19s - loss: 0.9789 - acc: 0.7151    \n",
      "Epoch 2/2\n",
      "30000/30000 [==============================] - 14s - loss: 0.5577 - acc: 0.8324    \n",
      "Epoch 1/2\n",
      "30000/30000 [==============================] - 24s - loss: 0.9564 - acc: 0.7212    \n",
      "Epoch 2/2\n",
      "30000/30000 [==============================] - 18s - loss: 0.5472 - acc: 0.8353    \n",
      "Epoch 1/2\n",
      "30000/30000 [==============================] - 24s - loss: 0.9624 - acc: 0.7186    \n",
      "Epoch 2/2\n",
      "30000/30000 [==============================] - 18s - loss: 0.5386 - acc: 0.8348    \n",
      "Epoch 1/2\n",
      "30000/30000 [==============================] - 23s - loss: 0.9581 - acc: 0.7214    \n",
      "Epoch 2/2\n",
      "30000/30000 [==============================] - 17s - loss: 0.5483 - acc: 0.8344    \n",
      "Epoch 1/2\n",
      "30000/30000 [==============================] - 24s - loss: 0.9605 - acc: 0.7220    \n",
      "Epoch 2/2\n",
      "30000/30000 [==============================] - 18s - loss: 0.5379 - acc: 0.8364    \n",
      "Epoch 1/2\n",
      "30000/30000 [==============================] - 19s - loss: 0.9839 - acc: 0.7162    \n",
      "Epoch 2/2\n",
      "30000/30000 [==============================] - 13s - loss: 0.5686 - acc: 0.8291    \n",
      "Epoch 1/2\n",
      "30000/30000 [==============================] - 21s - loss: 0.9805 - acc: 0.7170    \n",
      "Epoch 2/2\n",
      "30000/30000 [==============================] - 15s - loss: 0.5654 - acc: 0.8284    \n"
     ]
    }
   ],
   "source": [
    "nn_ensemble = [create_model_ens(lay[:,i], drop[:,i]) for i in range(ens_size)]\n",
    "\n",
    "result_ens = np.zeros((X_test.shape[0], 20))\n",
    "\n",
    "for model in nn_ensemble:\n",
    "    model.fit(X_train, Y_train, epochs=2, batch_size=64)\n",
    "    result_ens += model.predict(X_test)\n",
    "\n",
    "result_ens = K.softmax(result_ens)"
   ]
  },
  {
   "cell_type": "code",
   "execution_count": 126,
   "metadata": {},
   "outputs": [
    {
     "name": "stdout",
     "output_type": "stream",
     "text": [
      "Tensor(\"Softmax_20:0\", shape=(9774, 20), dtype=float64)\n"
     ]
    }
   ],
   "source": [
    "print(result_ens)\n",
    "result_ens = K.eval(result_ens)"
   ]
  },
  {
   "cell_type": "code",
   "execution_count": 128,
   "metadata": {},
   "outputs": [
    {
     "name": "stdout",
     "output_type": "stream",
     "text": [
      "[ 0.09949039  0.00992089  0.01051437  0.00997103  0.01080287  0.01233826\n",
      "  0.01138248  0.01037371  0.00990174  0.03757746  0.01007047  0.00993403\n",
      "  0.00989687  0.01363182  0.4151851   0.01037127  0.01015304  0.2767653\n",
      "  0.0109526   0.01076631]\n"
     ]
    }
   ],
   "source": [
    "print(result_ens[1])"
   ]
  },
  {
   "cell_type": "code",
   "execution_count": 129,
   "metadata": {
    "collapsed": true
   },
   "outputs": [],
   "source": [
    "Y_test = np.argmax(result_ens, axis=1)\n",
    "result_ens = lab_enc.inverse_transform(Y_test)"
   ]
  },
  {
   "cell_type": "code",
   "execution_count": 144,
   "metadata": {},
   "outputs": [
    {
     "name": "stdout",
     "output_type": "stream",
     "text": [
      "[ 9 14  9 ..., 12 11  1]\n"
     ]
    }
   ],
   "source": [
    "print(Y_test)"
   ]
  },
  {
   "cell_type": "code",
   "execution_count": 132,
   "metadata": {},
   "outputs": [
    {
     "name": "stdout",
     "output_type": "stream",
     "text": [
      "[[24888 'italian']\n",
      " [43564 'moroccan']\n",
      " [21898 'italian']\n",
      " ..., \n",
      " [19489 'korean']\n",
      " [176 'japanese']\n",
      " [49430 'british']]\n"
     ]
    }
   ],
   "source": [
    "subm_set = np.stack((test.id, result_ens), axis=1)\n",
    "print(subm_set)"
   ]
  },
  {
   "cell_type": "code",
   "execution_count": 133,
   "metadata": {
    "collapsed": true
   },
   "outputs": [],
   "source": [
    "np.savetxt(\"subm_nn_ens2.csv\", subm_set, delimiter=\",\", header=\"id,cuisine\", fmt=\"%d,%s\", comments=\"\")"
   ]
  },
  {
   "cell_type": "markdown",
   "metadata": {},
   "source": [
    "### Visualization"
   ]
  },
  {
   "cell_type": "markdown",
   "metadata": {},
   "source": [
    "Visualizing differences in decisions made by ensembled neural nets:"
   ]
  },
  {
   "cell_type": "code",
   "execution_count": 155,
   "metadata": {},
   "outputs": [],
   "source": [
    "import matplotlib.pyplot as plt"
   ]
  },
  {
   "cell_type": "code",
   "execution_count": 134,
   "metadata": {
    "collapsed": true
   },
   "outputs": [],
   "source": [
    "chart = []\n",
    "\n",
    "for model in nn_ensemble:\n",
    "    chart.append(model.predict(X_test))"
   ]
  },
  {
   "cell_type": "code",
   "execution_count": 145,
   "metadata": {},
   "outputs": [
    {
     "name": "stdout",
     "output_type": "stream",
     "text": [
      "[array([[  4.32862653e-05,   4.67441936e-07,   1.35383543e-05, ...,\n",
      "          1.88516598e-04,   7.29778662e-07,   8.74175612e-07],\n",
      "       [  1.86773345e-01,   3.69006215e-04,   1.38104893e-02, ...,\n",
      "          4.15516227e-01,   2.49519106e-02,   7.63770891e-03],\n",
      "       [  6.00599626e-04,   4.40689661e-02,   2.40089446e-02, ...,\n",
      "          1.29879676e-02,   2.04563286e-04,   2.57828593e-04],\n",
      "       ..., \n",
      "       [  1.36972142e-06,   1.77625793e-07,   6.45174453e-07, ...,\n",
      "          3.43480747e-06,   5.36695870e-06,   6.81135634e-06],\n",
      "       [  2.26190173e-06,   2.40963454e-05,   9.54709594e-06, ...,\n",
      "          2.30100468e-05,   1.37027772e-03,   8.54343409e-04],\n",
      "       [  7.70134011e-06,   9.46308255e-01,   1.01927719e-04, ...,\n",
      "          2.05899647e-04,   3.07654159e-06,   1.93925530e-06]], dtype=float32), array([[  4.47824277e-05,   9.05540560e-07,   1.13990145e-05, ...,\n",
      "          4.12879628e-04,   1.08615336e-06,   2.17296042e-06],\n",
      "       [  1.34910375e-01,   1.16742239e-03,   5.30491723e-03, ...,\n",
      "          5.53539753e-01,   1.82231283e-03,   4.03204840e-03],\n",
      "       [  2.74421909e-04,   1.14103369e-02,   1.00559257e-02, ...,\n",
      "          2.14481559e-02,   3.28678943e-05,   8.10254860e-05],\n",
      "       ..., \n",
      "       [  7.24102733e-07,   5.04710840e-07,   4.21568217e-07, ...,\n",
      "          1.43815362e-06,   7.32790977e-06,   1.24473872e-05],\n",
      "       [  1.14614534e-06,   3.29071481e-05,   1.95119878e-06, ...,\n",
      "          5.58495276e-06,   4.74856148e-04,   1.65122794e-03],\n",
      "       [  1.00769266e-05,   8.63260090e-01,   2.44966141e-05, ...,\n",
      "          2.50330311e-04,   1.67399651e-06,   5.99476652e-06]], dtype=float32), array([[  6.51068520e-04,   2.04110552e-06,   2.15981800e-05, ...,\n",
      "          5.48157434e-04,   3.33381695e-06,   2.89598142e-06],\n",
      "       [  2.40243167e-01,   6.61872851e-04,   2.98867538e-03, ...,\n",
      "          2.34694153e-01,   5.22116851e-03,   3.28319753e-03],\n",
      "       [  1.19592075e-03,   1.23308644e-01,   3.38560753e-02, ...,\n",
      "          3.97411734e-02,   1.18729993e-04,   4.22288402e-04],\n",
      "       ..., \n",
      "       [  7.33635602e-07,   8.96505838e-08,   4.74793929e-08, ...,\n",
      "          1.53953215e-06,   9.33863885e-06,   7.17258717e-06],\n",
      "       [  2.52486734e-06,   1.00325553e-04,   3.59867022e-06, ...,\n",
      "          1.29435546e-04,   1.26123335e-03,   4.22105892e-03],\n",
      "       [  1.16659714e-04,   9.21492994e-01,   3.36329394e-05, ...,\n",
      "          4.82466188e-04,   1.09063612e-05,   2.25727654e-05]], dtype=float32), array([[  7.46017322e-05,   7.89523682e-08,   6.56566908e-06, ...,\n",
      "          2.32528018e-05,   4.87255306e-07,   1.60804143e-06],\n",
      "       [  2.80650586e-01,   8.85224668e-04,   3.92602617e-03, ...,\n",
      "          2.54587501e-01,   1.45779026e-03,   1.01316802e-03],\n",
      "       [  3.63273837e-04,   3.35070863e-02,   1.66558493e-02, ...,\n",
      "          1.02290306e-02,   1.14175171e-04,   1.37621508e-04],\n",
      "       ..., \n",
      "       [  1.32304535e-06,   4.45259559e-07,   4.62113519e-07, ...,\n",
      "          7.40102280e-07,   8.36481559e-06,   2.01006624e-05],\n",
      "       [  4.32971518e-07,   1.76672747e-05,   1.73815874e-06, ...,\n",
      "          5.97596681e-06,   3.95642943e-04,   1.63178518e-03],\n",
      "       [  2.95781967e-04,   8.90929461e-01,   8.03672650e-04, ...,\n",
      "          8.24391202e-04,   1.68414754e-05,   2.04512726e-05]], dtype=float32), array([[  1.53367000e-04,   7.72057334e-08,   7.21489278e-06, ...,\n",
      "          3.77210454e-05,   2.77148979e-06,   5.65015716e-06],\n",
      "       [  8.72506276e-02,   1.18745852e-03,   3.46692628e-03, ...,\n",
      "          1.37204707e-01,   6.94524543e-03,   7.30820233e-03],\n",
      "       [  7.37793278e-04,   3.98266539e-02,   1.06280698e-02, ...,\n",
      "          3.83150540e-02,   7.71973209e-05,   1.77718321e-04],\n",
      "       ..., \n",
      "       [  1.48923164e-06,   6.10505424e-07,   3.67078371e-07, ...,\n",
      "          1.42893578e-06,   1.12158723e-05,   4.97290712e-05],\n",
      "       [  1.42529359e-07,   1.24577664e-05,   5.32634949e-08, ...,\n",
      "          5.11579060e-07,   9.42208499e-05,   1.02510082e-03],\n",
      "       [  8.66789997e-05,   5.44500649e-01,   1.85888086e-04, ...,\n",
      "          7.51506828e-04,   3.65541564e-05,   4.06737017e-05]], dtype=float32), array([[  1.30372631e-04,   1.29684031e-06,   8.37183688e-06, ...,\n",
      "          4.47483966e-04,   1.03786601e-06,   1.88833872e-06],\n",
      "       [  1.50377586e-01,   8.47626361e-04,   3.80543154e-03, ...,\n",
      "          2.82453567e-01,   6.35162881e-03,   6.69302605e-03],\n",
      "       [  7.14397000e-04,   4.62759994e-02,   1.63456276e-02, ...,\n",
      "          2.24821214e-02,   1.20418568e-04,   3.68846988e-04],\n",
      "       ..., \n",
      "       [  5.03065962e-07,   6.63283117e-07,   7.14616363e-07, ...,\n",
      "          3.27209705e-06,   4.79384289e-05,   6.95009367e-05],\n",
      "       [  5.53202710e-07,   1.02314843e-05,   3.67085045e-06, ...,\n",
      "          6.24699487e-06,   2.87108938e-03,   6.72820210e-03],\n",
      "       [  4.31537883e-05,   9.58877146e-01,   5.03680436e-04, ...,\n",
      "          3.73831776e-04,   4.46293598e-05,   1.44872029e-04]], dtype=float32), array([[  1.31862110e-03,   4.68606117e-07,   8.44573660e-05, ...,\n",
      "          1.13589352e-03,   6.91560672e-06,   6.55919575e-06],\n",
      "       [  1.51090384e-01,   3.33056785e-04,   6.19378081e-03, ...,\n",
      "          1.92109704e-01,   2.35137083e-02,   1.26500260e-02],\n",
      "       [  2.52451468e-03,   2.30218209e-02,   7.59233683e-02, ...,\n",
      "          2.43165977e-02,   7.79733527e-04,   8.73190991e-04],\n",
      "       ..., \n",
      "       [  1.27859494e-06,   4.85429261e-08,   1.00620987e-07, ...,\n",
      "          7.06720243e-07,   1.12371854e-05,   1.30850467e-05],\n",
      "       [  3.61440812e-06,   7.44559475e-06,   1.23814618e-06, ...,\n",
      "          3.22960614e-06,   1.38582313e-03,   1.41673745e-03],\n",
      "       [  4.14797978e-04,   9.03080881e-01,   2.65632552e-04, ...,\n",
      "          1.25237787e-03,   3.85198691e-05,   3.15267316e-05]], dtype=float32), array([[  3.90005562e-06,   6.05135497e-09,   1.71876280e-07, ...,\n",
      "          1.22085967e-05,   5.04919839e-08,   7.16975066e-08],\n",
      "       [  4.23363864e-01,   2.61439884e-04,   9.48618166e-03, ...,\n",
      "          3.05167615e-01,   7.35828979e-03,   7.43125146e-03],\n",
      "       [  7.02762336e-04,   6.94388850e-03,   1.28286015e-02, ...,\n",
      "          1.74749438e-02,   1.77477341e-04,   2.30240737e-04],\n",
      "       ..., \n",
      "       [  1.12859314e-04,   1.13193892e-06,   1.89149648e-06, ...,\n",
      "          2.35368334e-05,   1.08049207e-04,   6.33810123e-05],\n",
      "       [  5.12055408e-07,   2.60866364e-06,   4.31888992e-07, ...,\n",
      "          6.16143279e-06,   1.11690235e-04,   1.69000137e-04],\n",
      "       [  2.55047835e-05,   9.08440351e-01,   3.72494920e-04, ...,\n",
      "          2.34244129e-04,   5.98473707e-06,   4.11126712e-05]], dtype=float32), array([[  9.80661061e-05,   3.38491333e-07,   1.51016798e-06, ...,\n",
      "          3.70189722e-04,   7.19534228e-07,   4.26896395e-06],\n",
      "       [  3.23491037e-01,   3.47587309e-04,   2.31581717e-03, ...,\n",
      "          1.99585482e-01,   4.84514935e-03,   4.17885324e-03],\n",
      "       [  9.25258792e-04,   6.09605201e-02,   5.37036099e-02, ...,\n",
      "          3.40613499e-02,   9.13274271e-05,   2.34469859e-04],\n",
      "       ..., \n",
      "       [  4.29441741e-07,   3.22752101e-07,   2.93170729e-07, ...,\n",
      "          1.81504686e-06,   4.13550952e-05,   1.51153345e-05],\n",
      "       [  1.49036259e-06,   1.41264854e-05,   2.44389958e-06, ...,\n",
      "          5.20892581e-06,   7.51684711e-04,   5.25010284e-04],\n",
      "       [  4.58559698e-05,   9.55727875e-01,   9.99451004e-05, ...,\n",
      "          8.39871063e-05,   1.29769512e-06,   5.10023619e-06]], dtype=float32), array([[  1.65833046e-06,   1.45498804e-08,   2.20842239e-07, ...,\n",
      "          8.08109780e-06,   3.05567376e-08,   1.12693250e-07],\n",
      "       [  1.37180865e-01,   9.72026726e-04,   5.30020008e-03, ...,\n",
      "          1.25222370e-01,   5.03915735e-03,   9.53827705e-03],\n",
      "       [  1.74200977e-04,   8.79116915e-03,   3.62237403e-03, ...,\n",
      "          2.71696448e-02,   2.77312101e-05,   7.15555798e-05],\n",
      "       ..., \n",
      "       [  1.15116086e-08,   1.55286060e-08,   7.98096433e-09, ...,\n",
      "          3.68710289e-08,   3.06428547e-07,   1.58466332e-06],\n",
      "       [  3.20050958e-06,   1.28600819e-04,   2.27009423e-06, ...,\n",
      "          1.17081609e-05,   8.70651100e-04,   1.90631067e-03],\n",
      "       [  6.31120274e-05,   9.41077113e-01,   7.52786218e-05, ...,\n",
      "          3.25099914e-04,   3.17023387e-06,   1.48698355e-05]], dtype=float32), array([[  1.88064769e-05,   6.75645424e-07,   2.03090094e-05, ...,\n",
      "          4.32905130e-04,   5.72185854e-07,   1.37052541e-06],\n",
      "       [  9.68712643e-02,   5.43430040e-04,   5.23644499e-03, ...,\n",
      "          2.96770483e-01,   5.04295807e-03,   9.96338855e-03],\n",
      "       [  2.96295155e-04,   1.08911749e-02,   7.47485505e-03, ...,\n",
      "          1.48924105e-02,   6.89744702e-05,   1.29329113e-04],\n",
      "       ..., \n",
      "       [  7.45838588e-06,   1.35980872e-06,   2.09466157e-06, ...,\n",
      "          5.98422048e-06,   4.99092093e-05,   2.92581008e-05],\n",
      "       [  2.19056190e-07,   4.69367978e-06,   1.11226609e-06, ...,\n",
      "          3.80692745e-06,   7.76673551e-05,   4.22507350e-04],\n",
      "       [  6.09160343e-05,   8.12256873e-01,   5.42335038e-04, ...,\n",
      "          1.18367816e-03,   6.79421328e-06,   2.57945285e-05]], dtype=float32), array([[  9.53394192e-05,   8.93100264e-07,   7.43078272e-06, ...,\n",
      "          4.51577478e-04,   1.33540914e-06,   9.75216949e-07],\n",
      "       [  1.01907067e-01,   1.11531909e-03,   4.95738024e-03, ...,\n",
      "          3.40367466e-01,   1.50764510e-02,   1.67421401e-02],\n",
      "       [  3.37368285e-04,   3.94380614e-02,   3.82565409e-02, ...,\n",
      "          4.33202609e-02,   1.16251504e-04,   2.61903362e-04],\n",
      "       ..., \n",
      "       [  8.74416969e-07,   5.21669847e-07,   5.47605659e-08, ...,\n",
      "          1.50792187e-06,   3.22691358e-06,   3.11700182e-06],\n",
      "       [  2.23979919e-06,   6.84800616e-05,   5.89448155e-06, ...,\n",
      "          9.14937209e-06,   5.03560179e-04,   2.54866481e-03],\n",
      "       [  7.92370192e-05,   7.48701632e-01,   5.97506703e-04, ...,\n",
      "          3.50479269e-03,   8.09653284e-06,   2.07259945e-05]], dtype=float32)]\n"
     ]
    }
   ],
   "source": [
    "print(chart)"
   ]
  },
  {
   "cell_type": "code",
   "execution_count": 146,
   "metadata": {},
   "outputs": [],
   "source": [
    "chart_argmax = []\n",
    "for x in chart:\n",
    "    chart_argmax.append(np.argmax(x, axis=1))"
   ]
  },
  {
   "cell_type": "code",
   "execution_count": 158,
   "metadata": {
    "scrolled": true
   },
   "outputs": [
    {
     "name": "stdout",
     "output_type": "stream",
     "text": [
      "[[ 9 17  9 ..., 12 11  1]\n",
      " [ 9 17  9 ..., 12 11  1]\n",
      " [ 9 14  9 ..., 12 11  1]\n",
      " ..., \n",
      " [ 9  9  9 ..., 12 11  1]\n",
      " [ 9 14  9 ..., 12 11  1]\n",
      " [ 9 17  9 ..., 12 11  1]]\n"
     ]
    }
   ],
   "source": [
    "chart_argmax = np.array(chart_argmax)\n",
    "print(chart_argmax)"
   ]
  },
  {
   "cell_type": "code",
   "execution_count": 151,
   "metadata": {},
   "outputs": [],
   "source": [
    "pick = []\n",
    "for x in chart_argmax:\n",
    "    pick.append(lab_enc.inverse_transform(x))"
   ]
  },
  {
   "cell_type": "code",
   "execution_count": 153,
   "metadata": {},
   "outputs": [
    {
     "name": "stdout",
     "output_type": "stream",
     "text": [
      "[['italian' 'spanish' 'italian' ..., 'korean' 'japanese' 'british']\n",
      " ['italian' 'spanish' 'italian' ..., 'korean' 'japanese' 'british']\n",
      " ['italian' 'moroccan' 'italian' ..., 'korean' 'japanese' 'british']\n",
      " ..., \n",
      " ['italian' 'italian' 'italian' ..., 'korean' 'japanese' 'british']\n",
      " ['italian' 'moroccan' 'italian' ..., 'korean' 'japanese' 'british']\n",
      " ['italian' 'spanish' 'italian' ..., 'korean' 'japanese' 'british']]\n"
     ]
    }
   ],
   "source": [
    "pick = np.array(pick)\n",
    "print(pick)"
   ]
  },
  {
   "cell_type": "code",
   "execution_count": 198,
   "metadata": {},
   "outputs": [
    {
     "data": {
      "image/png": "[encoded data removed]",
      "text/plain": [
       "<matplotlib.figure.Figure at 0x7ff915c70e10>"
      ]
     },
     "metadata": {},
     "output_type": "display_data"
    },
    {
     "data": {
      "image/png": "[encoded data removed]",
      "text/plain": [
       "<matplotlib.figure.Figure at 0x7ff915bcaef0>"
      ]
     },
     "metadata": {},
     "output_type": "display_data"
    },
    {
     "data": {
      "image/png": "[encoded data removed]",
      "text/plain": [
       "<matplotlib.figure.Figure at 0x7ff915acad68>"
      ]
     },
     "metadata": {},
     "output_type": "display_data"
    },
    {
     "data": {
      "image/png": "[encoded data removed]",
      "text/plain": [
       "<matplotlib.figure.Figure at 0x7ff915a03cc0>"
      ]
     },
     "metadata": {},
     "output_type": "display_data"
    },
    {
     "data": {
      "image/png": "[encoded data removed]",
      "text/plain": [
       "<matplotlib.figure.Figure at 0x7ff91594ee80>"
      ]
     },
     "metadata": {},
     "output_type": "display_data"
    },
    {
     "data": {
      "image/png": "[encoded data removed]",
      "text/plain": [
       "<matplotlib.figure.Figure at 0x7ff915839f60>"
      ]
     },
     "metadata": {},
     "output_type": "display_data"
    }
   ],
   "source": [
    "for i in range(6):\n",
    "    k = np.random.randint(0, 3000)\n",
    "    l = k + 50\n",
    "    plt.imshow(chart_argmax[:,k:l])\n",
    "    plt.yticks(range(12))\n",
    "    plt.xticks(range(50))\n",
    "    plt.show()"
   ]
  },
  {
   "cell_type": "markdown",
   "metadata": {},
   "source": [
    "## ExtraTreesClassifier"
   ]
  },
  {
   "cell_type": "code",
   "execution_count": 22,
   "metadata": {
    "collapsed": true
   },
   "outputs": [],
   "source": [
    "ext = ExtraTreesClassifier(n_estimators=50)"
   ]
  },
  {
   "cell_type": "code",
   "execution_count": 30,
   "metadata": {
    "collapsed": true
   },
   "outputs": [],
   "source": [
    "params = {'n_estimators' : [100],\n",
    "          'max_features' : [1000, 5000]}"
   ]
  },
  {
   "cell_type": "code",
   "execution_count": 31,
   "metadata": {
    "collapsed": true
   },
   "outputs": [],
   "source": [
    "grid_search = GridSearchCV(ext, params)"
   ]
  },
  {
   "cell_type": "code",
   "execution_count": 32,
   "metadata": {},
   "outputs": [
    {
     "ename": "KeyboardInterrupt",
     "evalue": "",
     "output_type": "error",
     "traceback": [
      "\u001b[0;31m---------------------------------------------------------------------------\u001b[0m",
      "\u001b[0;31mKeyboardInterrupt\u001b[0m                         Traceback (most recent call last)",
      "\u001b[0;32m<ipython-input-32-bd4d7c10c9bd>\u001b[0m in \u001b[0;36m<module>\u001b[0;34m()\u001b[0m\n\u001b[0;32m----> 1\u001b[0;31m \u001b[0mgrid_search\u001b[0m\u001b[0;34m.\u001b[0m\u001b[0mfit\u001b[0m\u001b[0;34m(\u001b[0m\u001b[0mX_train\u001b[0m\u001b[0;34m,\u001b[0m \u001b[0mY_raw\u001b[0m\u001b[0;34m)\u001b[0m\u001b[0;34m\u001b[0m\u001b[0m\n\u001b[0m",
      "\u001b[0;32m~/anaconda3/lib/python3.6/site-packages/sklearn/model_selection/_search.py\u001b[0m in \u001b[0;36mfit\u001b[0;34m(self, X, y, groups, **fit_params)\u001b[0m\n\u001b[1;32m    636\u001b[0m                                   error_score=self.error_score)\n\u001b[1;32m    637\u001b[0m           for parameters, (train, test) in product(candidate_params,\n\u001b[0;32m--> 638\u001b[0;31m                                                    cv.split(X, y, groups)))\n\u001b[0m\u001b[1;32m    639\u001b[0m \u001b[0;34m\u001b[0m\u001b[0m\n\u001b[1;32m    640\u001b[0m         \u001b[0;31m# if one choose to see train score, \"out\" will contain train score info\u001b[0m\u001b[0;34m\u001b[0m\u001b[0;34m\u001b[0m\u001b[0m\n",
      "\u001b[0;32m~/anaconda3/lib/python3.6/site-packages/sklearn/externals/joblib/parallel.py\u001b[0m in \u001b[0;36m__call__\u001b[0;34m(self, iterable)\u001b[0m\n\u001b[1;32m    777\u001b[0m             \u001b[0;31m# was dispatched. In particular this covers the edge\u001b[0m\u001b[0;34m\u001b[0m\u001b[0;34m\u001b[0m\u001b[0m\n\u001b[1;32m    778\u001b[0m             \u001b[0;31m# case of Parallel used with an exhausted iterator.\u001b[0m\u001b[0;34m\u001b[0m\u001b[0;34m\u001b[0m\u001b[0m\n\u001b[0;32m--> 779\u001b[0;31m             \u001b[0;32mwhile\u001b[0m \u001b[0mself\u001b[0m\u001b[0;34m.\u001b[0m\u001b[0mdispatch_one_batch\u001b[0m\u001b[0;34m(\u001b[0m\u001b[0miterator\u001b[0m\u001b[0;34m)\u001b[0m\u001b[0;34m:\u001b[0m\u001b[0;34m\u001b[0m\u001b[0m\n\u001b[0m\u001b[1;32m    780\u001b[0m                 \u001b[0mself\u001b[0m\u001b[0;34m.\u001b[0m\u001b[0m_iterating\u001b[0m \u001b[0;34m=\u001b[0m \u001b[0;32mTrue\u001b[0m\u001b[0;34m\u001b[0m\u001b[0m\n\u001b[1;32m    781\u001b[0m             \u001b[0;32melse\u001b[0m\u001b[0;34m:\u001b[0m\u001b[0;34m\u001b[0m\u001b[0m\n",
      "\u001b[0;32m~/anaconda3/lib/python3.6/site-packages/sklearn/externals/joblib/parallel.py\u001b[0m in \u001b[0;36mdispatch_one_batch\u001b[0;34m(self, iterator)\u001b[0m\n\u001b[1;32m    623\u001b[0m                 \u001b[0;32mreturn\u001b[0m \u001b[0;32mFalse\u001b[0m\u001b[0;34m\u001b[0m\u001b[0m\n\u001b[1;32m    624\u001b[0m             \u001b[0;32melse\u001b[0m\u001b[0;34m:\u001b[0m\u001b[0;34m\u001b[0m\u001b[0m\n\u001b[0;32m--> 625\u001b[0;31m                 \u001b[0mself\u001b[0m\u001b[0;34m.\u001b[0m\u001b[0m_dispatch\u001b[0m\u001b[0;34m(\u001b[0m\u001b[0mtasks\u001b[0m\u001b[0;34m)\u001b[0m\u001b[0;34m\u001b[0m\u001b[0m\n\u001b[0m\u001b[1;32m    626\u001b[0m                 \u001b[0;32mreturn\u001b[0m \u001b[0;32mTrue\u001b[0m\u001b[0;34m\u001b[0m\u001b[0m\n\u001b[1;32m    627\u001b[0m \u001b[0;34m\u001b[0m\u001b[0m\n",
      "\u001b[0;32m~/anaconda3/lib/python3.6/site-packages/sklearn/externals/joblib/parallel.py\u001b[0m in \u001b[0;36m_dispatch\u001b[0;34m(self, batch)\u001b[0m\n\u001b[1;32m    586\u001b[0m         \u001b[0mdispatch_timestamp\u001b[0m \u001b[0;34m=\u001b[0m \u001b[0mtime\u001b[0m\u001b[0;34m.\u001b[0m\u001b[0mtime\u001b[0m\u001b[0;34m(\u001b[0m\u001b[0;34m)\u001b[0m\u001b[0;34m\u001b[0m\u001b[0m\n\u001b[1;32m    587\u001b[0m         \u001b[0mcb\u001b[0m \u001b[0;34m=\u001b[0m \u001b[0mBatchCompletionCallBack\u001b[0m\u001b[0;34m(\u001b[0m\u001b[0mdispatch_timestamp\u001b[0m\u001b[0;34m,\u001b[0m \u001b[0mlen\u001b[0m\u001b[0;34m(\u001b[0m\u001b[0mbatch\u001b[0m\u001b[0;34m)\u001b[0m\u001b[0;34m,\u001b[0m \u001b[0mself\u001b[0m\u001b[0;34m)\u001b[0m\u001b[0;34m\u001b[0m\u001b[0m\n\u001b[0;32m--> 588\u001b[0;31m         \u001b[0mjob\u001b[0m \u001b[0;34m=\u001b[0m \u001b[0mself\u001b[0m\u001b[0;34m.\u001b[0m\u001b[0m_backend\u001b[0m\u001b[0;34m.\u001b[0m\u001b[0mapply_async\u001b[0m\u001b[0;34m(\u001b[0m\u001b[0mbatch\u001b[0m\u001b[0;34m,\u001b[0m \u001b[0mcallback\u001b[0m\u001b[0;34m=\u001b[0m\u001b[0mcb\u001b[0m\u001b[0;34m)\u001b[0m\u001b[0;34m\u001b[0m\u001b[0m\n\u001b[0m\u001b[1;32m    589\u001b[0m         \u001b[0mself\u001b[0m\u001b[0;34m.\u001b[0m\u001b[0m_jobs\u001b[0m\u001b[0;34m.\u001b[0m\u001b[0mappend\u001b[0m\u001b[0;34m(\u001b[0m\u001b[0mjob\u001b[0m\u001b[0;34m)\u001b[0m\u001b[0;34m\u001b[0m\u001b[0m\n\u001b[1;32m    590\u001b[0m \u001b[0;34m\u001b[0m\u001b[0m\n",
      "\u001b[0;32m~/anaconda3/lib/python3.6/site-packages/sklearn/externals/joblib/_parallel_backends.py\u001b[0m in \u001b[0;36mapply_async\u001b[0;34m(self, func, callback)\u001b[0m\n\u001b[1;32m    109\u001b[0m     \u001b[0;32mdef\u001b[0m \u001b[0mapply_async\u001b[0m\u001b[0;34m(\u001b[0m\u001b[0mself\u001b[0m\u001b[0;34m,\u001b[0m \u001b[0mfunc\u001b[0m\u001b[0;34m,\u001b[0m \u001b[0mcallback\u001b[0m\u001b[0;34m=\u001b[0m\u001b[0;32mNone\u001b[0m\u001b[0;34m)\u001b[0m\u001b[0;34m:\u001b[0m\u001b[0;34m\u001b[0m\u001b[0m\n\u001b[1;32m    110\u001b[0m         \u001b[0;34m\"\"\"Schedule a func to be run\"\"\"\u001b[0m\u001b[0;34m\u001b[0m\u001b[0m\n\u001b[0;32m--> 111\u001b[0;31m         \u001b[0mresult\u001b[0m \u001b[0;34m=\u001b[0m \u001b[0mImmediateResult\u001b[0m\u001b[0;34m(\u001b[0m\u001b[0mfunc\u001b[0m\u001b[0;34m)\u001b[0m\u001b[0;34m\u001b[0m\u001b[0m\n\u001b[0m\u001b[1;32m    112\u001b[0m         \u001b[0;32mif\u001b[0m \u001b[0mcallback\u001b[0m\u001b[0;34m:\u001b[0m\u001b[0;34m\u001b[0m\u001b[0m\n\u001b[1;32m    113\u001b[0m             \u001b[0mcallback\u001b[0m\u001b[0;34m(\u001b[0m\u001b[0mresult\u001b[0m\u001b[0;34m)\u001b[0m\u001b[0;34m\u001b[0m\u001b[0m\n",
      "\u001b[0;32m~/anaconda3/lib/python3.6/site-packages/sklearn/externals/joblib/_parallel_backends.py\u001b[0m in \u001b[0;36m__init__\u001b[0;34m(self, batch)\u001b[0m\n\u001b[1;32m    330\u001b[0m         \u001b[0;31m# Don't delay the application, to avoid keeping the input\u001b[0m\u001b[0;34m\u001b[0m\u001b[0;34m\u001b[0m\u001b[0m\n\u001b[1;32m    331\u001b[0m         \u001b[0;31m# arguments in memory\u001b[0m\u001b[0;34m\u001b[0m\u001b[0;34m\u001b[0m\u001b[0m\n\u001b[0;32m--> 332\u001b[0;31m         \u001b[0mself\u001b[0m\u001b[0;34m.\u001b[0m\u001b[0mresults\u001b[0m \u001b[0;34m=\u001b[0m \u001b[0mbatch\u001b[0m\u001b[0;34m(\u001b[0m\u001b[0;34m)\u001b[0m\u001b[0;34m\u001b[0m\u001b[0m\n\u001b[0m\u001b[1;32m    333\u001b[0m \u001b[0;34m\u001b[0m\u001b[0m\n\u001b[1;32m    334\u001b[0m     \u001b[0;32mdef\u001b[0m \u001b[0mget\u001b[0m\u001b[0;34m(\u001b[0m\u001b[0mself\u001b[0m\u001b[0;34m)\u001b[0m\u001b[0;34m:\u001b[0m\u001b[0;34m\u001b[0m\u001b[0m\n",
      "\u001b[0;32m~/anaconda3/lib/python3.6/site-packages/sklearn/externals/joblib/parallel.py\u001b[0m in \u001b[0;36m__call__\u001b[0;34m(self)\u001b[0m\n\u001b[1;32m    129\u001b[0m \u001b[0;34m\u001b[0m\u001b[0m\n\u001b[1;32m    130\u001b[0m     \u001b[0;32mdef\u001b[0m \u001b[0m__call__\u001b[0m\u001b[0;34m(\u001b[0m\u001b[0mself\u001b[0m\u001b[0;34m)\u001b[0m\u001b[0;34m:\u001b[0m\u001b[0;34m\u001b[0m\u001b[0m\n\u001b[0;32m--> 131\u001b[0;31m         \u001b[0;32mreturn\u001b[0m \u001b[0;34m[\u001b[0m\u001b[0mfunc\u001b[0m\u001b[0;34m(\u001b[0m\u001b[0;34m*\u001b[0m\u001b[0margs\u001b[0m\u001b[0;34m,\u001b[0m \u001b[0;34m**\u001b[0m\u001b[0mkwargs\u001b[0m\u001b[0;34m)\u001b[0m \u001b[0;32mfor\u001b[0m \u001b[0mfunc\u001b[0m\u001b[0;34m,\u001b[0m \u001b[0margs\u001b[0m\u001b[0;34m,\u001b[0m \u001b[0mkwargs\u001b[0m \u001b[0;32min\u001b[0m \u001b[0mself\u001b[0m\u001b[0;34m.\u001b[0m\u001b[0mitems\u001b[0m\u001b[0;34m]\u001b[0m\u001b[0;34m\u001b[0m\u001b[0m\n\u001b[0m\u001b[1;32m    132\u001b[0m \u001b[0;34m\u001b[0m\u001b[0m\n\u001b[1;32m    133\u001b[0m     \u001b[0;32mdef\u001b[0m \u001b[0m__len__\u001b[0m\u001b[0;34m(\u001b[0m\u001b[0mself\u001b[0m\u001b[0;34m)\u001b[0m\u001b[0;34m:\u001b[0m\u001b[0;34m\u001b[0m\u001b[0m\n",
      "\u001b[0;32m~/anaconda3/lib/python3.6/site-packages/sklearn/externals/joblib/parallel.py\u001b[0m in \u001b[0;36m<listcomp>\u001b[0;34m(.0)\u001b[0m\n\u001b[1;32m    129\u001b[0m \u001b[0;34m\u001b[0m\u001b[0m\n\u001b[1;32m    130\u001b[0m     \u001b[0;32mdef\u001b[0m \u001b[0m__call__\u001b[0m\u001b[0;34m(\u001b[0m\u001b[0mself\u001b[0m\u001b[0;34m)\u001b[0m\u001b[0;34m:\u001b[0m\u001b[0;34m\u001b[0m\u001b[0m\n\u001b[0;32m--> 131\u001b[0;31m         \u001b[0;32mreturn\u001b[0m \u001b[0;34m[\u001b[0m\u001b[0mfunc\u001b[0m\u001b[0;34m(\u001b[0m\u001b[0;34m*\u001b[0m\u001b[0margs\u001b[0m\u001b[0;34m,\u001b[0m \u001b[0;34m**\u001b[0m\u001b[0mkwargs\u001b[0m\u001b[0;34m)\u001b[0m \u001b[0;32mfor\u001b[0m \u001b[0mfunc\u001b[0m\u001b[0;34m,\u001b[0m \u001b[0margs\u001b[0m\u001b[0;34m,\u001b[0m \u001b[0mkwargs\u001b[0m \u001b[0;32min\u001b[0m \u001b[0mself\u001b[0m\u001b[0;34m.\u001b[0m\u001b[0mitems\u001b[0m\u001b[0;34m]\u001b[0m\u001b[0;34m\u001b[0m\u001b[0m\n\u001b[0m\u001b[1;32m    132\u001b[0m \u001b[0;34m\u001b[0m\u001b[0m\n\u001b[1;32m    133\u001b[0m     \u001b[0;32mdef\u001b[0m \u001b[0m__len__\u001b[0m\u001b[0;34m(\u001b[0m\u001b[0mself\u001b[0m\u001b[0;34m)\u001b[0m\u001b[0;34m:\u001b[0m\u001b[0;34m\u001b[0m\u001b[0m\n",
      "\u001b[0;32m~/anaconda3/lib/python3.6/site-packages/sklearn/model_selection/_validation.py\u001b[0m in \u001b[0;36m_fit_and_score\u001b[0;34m(estimator, X, y, scorer, train, test, verbose, parameters, fit_params, return_train_score, return_parameters, return_n_test_samples, return_times, error_score)\u001b[0m\n\u001b[1;32m    435\u001b[0m             \u001b[0mestimator\u001b[0m\u001b[0;34m.\u001b[0m\u001b[0mfit\u001b[0m\u001b[0;34m(\u001b[0m\u001b[0mX_train\u001b[0m\u001b[0;34m,\u001b[0m \u001b[0;34m**\u001b[0m\u001b[0mfit_params\u001b[0m\u001b[0;34m)\u001b[0m\u001b[0;34m\u001b[0m\u001b[0m\n\u001b[1;32m    436\u001b[0m         \u001b[0;32melse\u001b[0m\u001b[0;34m:\u001b[0m\u001b[0;34m\u001b[0m\u001b[0m\n\u001b[0;32m--> 437\u001b[0;31m             \u001b[0mestimator\u001b[0m\u001b[0;34m.\u001b[0m\u001b[0mfit\u001b[0m\u001b[0;34m(\u001b[0m\u001b[0mX_train\u001b[0m\u001b[0;34m,\u001b[0m \u001b[0my_train\u001b[0m\u001b[0;34m,\u001b[0m \u001b[0;34m**\u001b[0m\u001b[0mfit_params\u001b[0m\u001b[0;34m)\u001b[0m\u001b[0;34m\u001b[0m\u001b[0m\n\u001b[0m\u001b[1;32m    438\u001b[0m \u001b[0;34m\u001b[0m\u001b[0m\n\u001b[1;32m    439\u001b[0m     \u001b[0;32mexcept\u001b[0m \u001b[0mException\u001b[0m \u001b[0;32mas\u001b[0m \u001b[0me\u001b[0m\u001b[0;34m:\u001b[0m\u001b[0;34m\u001b[0m\u001b[0m\n",
      "\u001b[0;32m~/anaconda3/lib/python3.6/site-packages/sklearn/ensemble/forest.py\u001b[0m in \u001b[0;36mfit\u001b[0;34m(self, X, y, sample_weight)\u001b[0m\n\u001b[1;32m    325\u001b[0m                     \u001b[0mt\u001b[0m\u001b[0;34m,\u001b[0m \u001b[0mself\u001b[0m\u001b[0;34m,\u001b[0m \u001b[0mX\u001b[0m\u001b[0;34m,\u001b[0m \u001b[0my\u001b[0m\u001b[0;34m,\u001b[0m \u001b[0msample_weight\u001b[0m\u001b[0;34m,\u001b[0m \u001b[0mi\u001b[0m\u001b[0;34m,\u001b[0m \u001b[0mlen\u001b[0m\u001b[0;34m(\u001b[0m\u001b[0mtrees\u001b[0m\u001b[0;34m)\u001b[0m\u001b[0;34m,\u001b[0m\u001b[0;34m\u001b[0m\u001b[0m\n\u001b[1;32m    326\u001b[0m                     verbose=self.verbose, class_weight=self.class_weight)\n\u001b[0;32m--> 327\u001b[0;31m                 for i, t in enumerate(trees))\n\u001b[0m\u001b[1;32m    328\u001b[0m \u001b[0;34m\u001b[0m\u001b[0m\n\u001b[1;32m    329\u001b[0m             \u001b[0;31m# Collect newly grown trees\u001b[0m\u001b[0;34m\u001b[0m\u001b[0;34m\u001b[0m\u001b[0m\n",
      "\u001b[0;32m~/anaconda3/lib/python3.6/site-packages/sklearn/externals/joblib/parallel.py\u001b[0m in \u001b[0;36m__call__\u001b[0;34m(self, iterable)\u001b[0m\n\u001b[1;32m    777\u001b[0m             \u001b[0;31m# was dispatched. In particular this covers the edge\u001b[0m\u001b[0;34m\u001b[0m\u001b[0;34m\u001b[0m\u001b[0m\n\u001b[1;32m    778\u001b[0m             \u001b[0;31m# case of Parallel used with an exhausted iterator.\u001b[0m\u001b[0;34m\u001b[0m\u001b[0;34m\u001b[0m\u001b[0m\n\u001b[0;32m--> 779\u001b[0;31m             \u001b[0;32mwhile\u001b[0m \u001b[0mself\u001b[0m\u001b[0;34m.\u001b[0m\u001b[0mdispatch_one_batch\u001b[0m\u001b[0;34m(\u001b[0m\u001b[0miterator\u001b[0m\u001b[0;34m)\u001b[0m\u001b[0;34m:\u001b[0m\u001b[0;34m\u001b[0m\u001b[0m\n\u001b[0m\u001b[1;32m    780\u001b[0m                 \u001b[0mself\u001b[0m\u001b[0;34m.\u001b[0m\u001b[0m_iterating\u001b[0m \u001b[0;34m=\u001b[0m \u001b[0;32mTrue\u001b[0m\u001b[0;34m\u001b[0m\u001b[0m\n\u001b[1;32m    781\u001b[0m             \u001b[0;32melse\u001b[0m\u001b[0;34m:\u001b[0m\u001b[0;34m\u001b[0m\u001b[0m\n",
      "\u001b[0;32m~/anaconda3/lib/python3.6/site-packages/sklearn/externals/joblib/parallel.py\u001b[0m in \u001b[0;36mdispatch_one_batch\u001b[0;34m(self, iterator)\u001b[0m\n\u001b[1;32m    623\u001b[0m                 \u001b[0;32mreturn\u001b[0m \u001b[0;32mFalse\u001b[0m\u001b[0;34m\u001b[0m\u001b[0m\n\u001b[1;32m    624\u001b[0m             \u001b[0;32melse\u001b[0m\u001b[0;34m:\u001b[0m\u001b[0;34m\u001b[0m\u001b[0m\n\u001b[0;32m--> 625\u001b[0;31m                 \u001b[0mself\u001b[0m\u001b[0;34m.\u001b[0m\u001b[0m_dispatch\u001b[0m\u001b[0;34m(\u001b[0m\u001b[0mtasks\u001b[0m\u001b[0;34m)\u001b[0m\u001b[0;34m\u001b[0m\u001b[0m\n\u001b[0m\u001b[1;32m    626\u001b[0m                 \u001b[0;32mreturn\u001b[0m \u001b[0;32mTrue\u001b[0m\u001b[0;34m\u001b[0m\u001b[0m\n\u001b[1;32m    627\u001b[0m \u001b[0;34m\u001b[0m\u001b[0m\n",
      "\u001b[0;32m~/anaconda3/lib/python3.6/site-packages/sklearn/externals/joblib/parallel.py\u001b[0m in \u001b[0;36m_dispatch\u001b[0;34m(self, batch)\u001b[0m\n\u001b[1;32m    586\u001b[0m         \u001b[0mdispatch_timestamp\u001b[0m \u001b[0;34m=\u001b[0m \u001b[0mtime\u001b[0m\u001b[0;34m.\u001b[0m\u001b[0mtime\u001b[0m\u001b[0;34m(\u001b[0m\u001b[0;34m)\u001b[0m\u001b[0;34m\u001b[0m\u001b[0m\n\u001b[1;32m    587\u001b[0m         \u001b[0mcb\u001b[0m \u001b[0;34m=\u001b[0m \u001b[0mBatchCompletionCallBack\u001b[0m\u001b[0;34m(\u001b[0m\u001b[0mdispatch_timestamp\u001b[0m\u001b[0;34m,\u001b[0m \u001b[0mlen\u001b[0m\u001b[0;34m(\u001b[0m\u001b[0mbatch\u001b[0m\u001b[0;34m)\u001b[0m\u001b[0;34m,\u001b[0m \u001b[0mself\u001b[0m\u001b[0;34m)\u001b[0m\u001b[0;34m\u001b[0m\u001b[0m\n\u001b[0;32m--> 588\u001b[0;31m         \u001b[0mjob\u001b[0m \u001b[0;34m=\u001b[0m \u001b[0mself\u001b[0m\u001b[0;34m.\u001b[0m\u001b[0m_backend\u001b[0m\u001b[0;34m.\u001b[0m\u001b[0mapply_async\u001b[0m\u001b[0;34m(\u001b[0m\u001b[0mbatch\u001b[0m\u001b[0;34m,\u001b[0m \u001b[0mcallback\u001b[0m\u001b[0;34m=\u001b[0m\u001b[0mcb\u001b[0m\u001b[0;34m)\u001b[0m\u001b[0;34m\u001b[0m\u001b[0m\n\u001b[0m\u001b[1;32m    589\u001b[0m         \u001b[0mself\u001b[0m\u001b[0;34m.\u001b[0m\u001b[0m_jobs\u001b[0m\u001b[0;34m.\u001b[0m\u001b[0mappend\u001b[0m\u001b[0;34m(\u001b[0m\u001b[0mjob\u001b[0m\u001b[0;34m)\u001b[0m\u001b[0;34m\u001b[0m\u001b[0m\n\u001b[1;32m    590\u001b[0m \u001b[0;34m\u001b[0m\u001b[0m\n",
      "\u001b[0;32m~/anaconda3/lib/python3.6/site-packages/sklearn/externals/joblib/_parallel_backends.py\u001b[0m in \u001b[0;36mapply_async\u001b[0;34m(self, func, callback)\u001b[0m\n\u001b[1;32m    109\u001b[0m     \u001b[0;32mdef\u001b[0m \u001b[0mapply_async\u001b[0m\u001b[0;34m(\u001b[0m\u001b[0mself\u001b[0m\u001b[0;34m,\u001b[0m \u001b[0mfunc\u001b[0m\u001b[0;34m,\u001b[0m \u001b[0mcallback\u001b[0m\u001b[0;34m=\u001b[0m\u001b[0;32mNone\u001b[0m\u001b[0;34m)\u001b[0m\u001b[0;34m:\u001b[0m\u001b[0;34m\u001b[0m\u001b[0m\n\u001b[1;32m    110\u001b[0m         \u001b[0;34m\"\"\"Schedule a func to be run\"\"\"\u001b[0m\u001b[0;34m\u001b[0m\u001b[0m\n\u001b[0;32m--> 111\u001b[0;31m         \u001b[0mresult\u001b[0m \u001b[0;34m=\u001b[0m \u001b[0mImmediateResult\u001b[0m\u001b[0;34m(\u001b[0m\u001b[0mfunc\u001b[0m\u001b[0;34m)\u001b[0m\u001b[0;34m\u001b[0m\u001b[0m\n\u001b[0m\u001b[1;32m    112\u001b[0m         \u001b[0;32mif\u001b[0m \u001b[0mcallback\u001b[0m\u001b[0;34m:\u001b[0m\u001b[0;34m\u001b[0m\u001b[0m\n\u001b[1;32m    113\u001b[0m             \u001b[0mcallback\u001b[0m\u001b[0;34m(\u001b[0m\u001b[0mresult\u001b[0m\u001b[0;34m)\u001b[0m\u001b[0;34m\u001b[0m\u001b[0m\n",
      "\u001b[0;32m~/anaconda3/lib/python3.6/site-packages/sklearn/externals/joblib/_parallel_backends.py\u001b[0m in \u001b[0;36m__init__\u001b[0;34m(self, batch)\u001b[0m\n\u001b[1;32m    330\u001b[0m         \u001b[0;31m# Don't delay the application, to avoid keeping the input\u001b[0m\u001b[0;34m\u001b[0m\u001b[0;34m\u001b[0m\u001b[0m\n\u001b[1;32m    331\u001b[0m         \u001b[0;31m# arguments in memory\u001b[0m\u001b[0;34m\u001b[0m\u001b[0;34m\u001b[0m\u001b[0m\n\u001b[0;32m--> 332\u001b[0;31m         \u001b[0mself\u001b[0m\u001b[0;34m.\u001b[0m\u001b[0mresults\u001b[0m \u001b[0;34m=\u001b[0m \u001b[0mbatch\u001b[0m\u001b[0;34m(\u001b[0m\u001b[0;34m)\u001b[0m\u001b[0;34m\u001b[0m\u001b[0m\n\u001b[0m\u001b[1;32m    333\u001b[0m \u001b[0;34m\u001b[0m\u001b[0m\n\u001b[1;32m    334\u001b[0m     \u001b[0;32mdef\u001b[0m \u001b[0mget\u001b[0m\u001b[0;34m(\u001b[0m\u001b[0mself\u001b[0m\u001b[0;34m)\u001b[0m\u001b[0;34m:\u001b[0m\u001b[0;34m\u001b[0m\u001b[0m\n",
      "\u001b[0;32m~/anaconda3/lib/python3.6/site-packages/sklearn/externals/joblib/parallel.py\u001b[0m in \u001b[0;36m__call__\u001b[0;34m(self)\u001b[0m\n\u001b[1;32m    129\u001b[0m \u001b[0;34m\u001b[0m\u001b[0m\n\u001b[1;32m    130\u001b[0m     \u001b[0;32mdef\u001b[0m \u001b[0m__call__\u001b[0m\u001b[0;34m(\u001b[0m\u001b[0mself\u001b[0m\u001b[0;34m)\u001b[0m\u001b[0;34m:\u001b[0m\u001b[0;34m\u001b[0m\u001b[0m\n\u001b[0;32m--> 131\u001b[0;31m         \u001b[0;32mreturn\u001b[0m \u001b[0;34m[\u001b[0m\u001b[0mfunc\u001b[0m\u001b[0;34m(\u001b[0m\u001b[0;34m*\u001b[0m\u001b[0margs\u001b[0m\u001b[0;34m,\u001b[0m \u001b[0;34m**\u001b[0m\u001b[0mkwargs\u001b[0m\u001b[0;34m)\u001b[0m \u001b[0;32mfor\u001b[0m \u001b[0mfunc\u001b[0m\u001b[0;34m,\u001b[0m \u001b[0margs\u001b[0m\u001b[0;34m,\u001b[0m \u001b[0mkwargs\u001b[0m \u001b[0;32min\u001b[0m \u001b[0mself\u001b[0m\u001b[0;34m.\u001b[0m\u001b[0mitems\u001b[0m\u001b[0;34m]\u001b[0m\u001b[0;34m\u001b[0m\u001b[0m\n\u001b[0m\u001b[1;32m    132\u001b[0m \u001b[0;34m\u001b[0m\u001b[0m\n\u001b[1;32m    133\u001b[0m     \u001b[0;32mdef\u001b[0m \u001b[0m__len__\u001b[0m\u001b[0;34m(\u001b[0m\u001b[0mself\u001b[0m\u001b[0;34m)\u001b[0m\u001b[0;34m:\u001b[0m\u001b[0;34m\u001b[0m\u001b[0m\n",
      "\u001b[0;32m~/anaconda3/lib/python3.6/site-packages/sklearn/externals/joblib/parallel.py\u001b[0m in \u001b[0;36m<listcomp>\u001b[0;34m(.0)\u001b[0m\n\u001b[1;32m    129\u001b[0m \u001b[0;34m\u001b[0m\u001b[0m\n\u001b[1;32m    130\u001b[0m     \u001b[0;32mdef\u001b[0m \u001b[0m__call__\u001b[0m\u001b[0;34m(\u001b[0m\u001b[0mself\u001b[0m\u001b[0;34m)\u001b[0m\u001b[0;34m:\u001b[0m\u001b[0;34m\u001b[0m\u001b[0m\n\u001b[0;32m--> 131\u001b[0;31m         \u001b[0;32mreturn\u001b[0m \u001b[0;34m[\u001b[0m\u001b[0mfunc\u001b[0m\u001b[0;34m(\u001b[0m\u001b[0;34m*\u001b[0m\u001b[0margs\u001b[0m\u001b[0;34m,\u001b[0m \u001b[0;34m**\u001b[0m\u001b[0mkwargs\u001b[0m\u001b[0;34m)\u001b[0m \u001b[0;32mfor\u001b[0m \u001b[0mfunc\u001b[0m\u001b[0;34m,\u001b[0m \u001b[0margs\u001b[0m\u001b[0;34m,\u001b[0m \u001b[0mkwargs\u001b[0m \u001b[0;32min\u001b[0m \u001b[0mself\u001b[0m\u001b[0;34m.\u001b[0m\u001b[0mitems\u001b[0m\u001b[0;34m]\u001b[0m\u001b[0;34m\u001b[0m\u001b[0m\n\u001b[0m\u001b[1;32m    132\u001b[0m \u001b[0;34m\u001b[0m\u001b[0m\n\u001b[1;32m    133\u001b[0m     \u001b[0;32mdef\u001b[0m \u001b[0m__len__\u001b[0m\u001b[0;34m(\u001b[0m\u001b[0mself\u001b[0m\u001b[0;34m)\u001b[0m\u001b[0;34m:\u001b[0m\u001b[0;34m\u001b[0m\u001b[0m\n",
      "\u001b[0;32m~/anaconda3/lib/python3.6/site-packages/sklearn/ensemble/forest.py\u001b[0m in \u001b[0;36m_parallel_build_trees\u001b[0;34m(tree, forest, X, y, sample_weight, tree_idx, n_trees, verbose, class_weight)\u001b[0m\n\u001b[1;32m    120\u001b[0m         \u001b[0mtree\u001b[0m\u001b[0;34m.\u001b[0m\u001b[0mfit\u001b[0m\u001b[0;34m(\u001b[0m\u001b[0mX\u001b[0m\u001b[0;34m,\u001b[0m \u001b[0my\u001b[0m\u001b[0;34m,\u001b[0m \u001b[0msample_weight\u001b[0m\u001b[0;34m=\u001b[0m\u001b[0mcurr_sample_weight\u001b[0m\u001b[0;34m,\u001b[0m \u001b[0mcheck_input\u001b[0m\u001b[0;34m=\u001b[0m\u001b[0;32mFalse\u001b[0m\u001b[0;34m)\u001b[0m\u001b[0;34m\u001b[0m\u001b[0m\n\u001b[1;32m    121\u001b[0m     \u001b[0;32melse\u001b[0m\u001b[0;34m:\u001b[0m\u001b[0;34m\u001b[0m\u001b[0m\n\u001b[0;32m--> 122\u001b[0;31m         \u001b[0mtree\u001b[0m\u001b[0;34m.\u001b[0m\u001b[0mfit\u001b[0m\u001b[0;34m(\u001b[0m\u001b[0mX\u001b[0m\u001b[0;34m,\u001b[0m \u001b[0my\u001b[0m\u001b[0;34m,\u001b[0m \u001b[0msample_weight\u001b[0m\u001b[0;34m=\u001b[0m\u001b[0msample_weight\u001b[0m\u001b[0;34m,\u001b[0m \u001b[0mcheck_input\u001b[0m\u001b[0;34m=\u001b[0m\u001b[0;32mFalse\u001b[0m\u001b[0;34m)\u001b[0m\u001b[0;34m\u001b[0m\u001b[0m\n\u001b[0m\u001b[1;32m    123\u001b[0m \u001b[0;34m\u001b[0m\u001b[0m\n\u001b[1;32m    124\u001b[0m     \u001b[0;32mreturn\u001b[0m \u001b[0mtree\u001b[0m\u001b[0;34m\u001b[0m\u001b[0m\n",
      "\u001b[0;32m~/anaconda3/lib/python3.6/site-packages/sklearn/tree/tree.py\u001b[0m in \u001b[0;36mfit\u001b[0;34m(self, X, y, sample_weight, check_input, X_idx_sorted)\u001b[0m\n\u001b[1;32m    788\u001b[0m             \u001b[0msample_weight\u001b[0m\u001b[0;34m=\u001b[0m\u001b[0msample_weight\u001b[0m\u001b[0;34m,\u001b[0m\u001b[0;34m\u001b[0m\u001b[0m\n\u001b[1;32m    789\u001b[0m             \u001b[0mcheck_input\u001b[0m\u001b[0;34m=\u001b[0m\u001b[0mcheck_input\u001b[0m\u001b[0;34m,\u001b[0m\u001b[0;34m\u001b[0m\u001b[0m\n\u001b[0;32m--> 790\u001b[0;31m             X_idx_sorted=X_idx_sorted)\n\u001b[0m\u001b[1;32m    791\u001b[0m         \u001b[0;32mreturn\u001b[0m \u001b[0mself\u001b[0m\u001b[0;34m\u001b[0m\u001b[0m\n\u001b[1;32m    792\u001b[0m \u001b[0;34m\u001b[0m\u001b[0m\n",
      "\u001b[0;32m~/anaconda3/lib/python3.6/site-packages/sklearn/tree/tree.py\u001b[0m in \u001b[0;36mfit\u001b[0;34m(self, X, y, sample_weight, check_input, X_idx_sorted)\u001b[0m\n\u001b[1;32m    360\u001b[0m                                            min_impurity_split)\n\u001b[1;32m    361\u001b[0m \u001b[0;34m\u001b[0m\u001b[0m\n\u001b[0;32m--> 362\u001b[0;31m         \u001b[0mbuilder\u001b[0m\u001b[0;34m.\u001b[0m\u001b[0mbuild\u001b[0m\u001b[0;34m(\u001b[0m\u001b[0mself\u001b[0m\u001b[0;34m.\u001b[0m\u001b[0mtree_\u001b[0m\u001b[0;34m,\u001b[0m \u001b[0mX\u001b[0m\u001b[0;34m,\u001b[0m \u001b[0my\u001b[0m\u001b[0;34m,\u001b[0m \u001b[0msample_weight\u001b[0m\u001b[0;34m,\u001b[0m \u001b[0mX_idx_sorted\u001b[0m\u001b[0;34m)\u001b[0m\u001b[0;34m\u001b[0m\u001b[0m\n\u001b[0m\u001b[1;32m    363\u001b[0m \u001b[0;34m\u001b[0m\u001b[0m\n\u001b[1;32m    364\u001b[0m         \u001b[0;32mif\u001b[0m \u001b[0mself\u001b[0m\u001b[0;34m.\u001b[0m\u001b[0mn_outputs_\u001b[0m \u001b[0;34m==\u001b[0m \u001b[0;36m1\u001b[0m\u001b[0;34m:\u001b[0m\u001b[0;34m\u001b[0m\u001b[0m\n",
      "\u001b[0;31mKeyboardInterrupt\u001b[0m: "
     ]
    }
   ],
   "source": [
    "grid_search.fit(X_train, Y_raw)"
   ]
  },
  {
   "cell_type": "code",
   "execution_count": null,
   "metadata": {
    "collapsed": true
   },
   "outputs": [],
   "source": [
    "sorted(grid_search.cv_results_.keys())"
   ]
  },
  {
   "cell_type": "code",
   "execution_count": null,
   "metadata": {
    "collapsed": true
   },
   "outputs": [],
   "source": [
    "print(grid_search.cv_results_['mean_test_score'])"
   ]
  },
  {
   "cell_type": "code",
   "execution_count": 17,
   "metadata": {},
   "outputs": [
    {
     "data": {
      "text/plain": [
       "array([ 0.5361,  0.5381,  0.5325])"
      ]
     },
     "execution_count": 17,
     "metadata": {},
     "output_type": "execute_result"
    }
   ],
   "source": [
    "cross_val_score(ext, X_train, Y_raw)"
   ]
  }
 ],
 "metadata": {
  "kernelspec": {
   "display_name": "Python 3",
   "language": "python",
   "name": "python3"
  },
  "language_info": {
   "codemirror_mode": {
    "name": "ipython",
    "version": 3
   },
   "file_extension": ".py",
   "mimetype": "text/x-python",
   "name": "python",
   "nbconvert_exporter": "python",
   "pygments_lexer": "ipython3",
   "version": "3.6.3"
  }
 },
 "nbformat": 4,
 "nbformat_minor": 2
}
