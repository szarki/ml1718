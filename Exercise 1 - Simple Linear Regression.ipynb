{
 "cells": [
  {
   "cell_type": "markdown",
   "metadata": {},
   "source": [
    "# Simple linear regression \n",
    "\n",
    "In this exercise you will train a linear regression model via gradient descent in the simplest scenario, i.e. recreating an affine function.\n",
    "\n",
    "The setup is as follows:\n",
    "* we are given a set of pairs $(x, y)$, where $x$ represents the feature, and $y$ is the target,\n",
    "* our hypothesis is $h(x) = ax + b$,\n",
    "* we will use the dataset consisting of set of pairs to figure out the right values for $a$ and $b$,\n",
    "* to do so we will optimize the loss function: $J(a,b) = \\sum_{i=1}^n (y_i - h(x_i))^2$,\n",
    "* with the loss function in hand we can improve our guesses iteratively:\n",
    "    * $a^{t+1} = a^t - \\text{step_size} \\cdot \\frac{\\partial J(a,b)}{\\partial a}$,\n",
    "    * $b^{t+1} = b^t - \\text{step_size} \\cdot \\frac{\\partial J(a,b)}{\\partial b}$,\n",
    "* we can end the process after some predefined number of epochs (or when the changes are no longer meaningful).\n",
    "\n",
    "Let's start with creating the dataset."
   ]
  },
  {
   "cell_type": "code",
   "execution_count": null,
   "metadata": {},
   "outputs": [],
   "source": [
    "%matplotlib inline\n",
    "\n",
    "import random\n",
    "\n",
    "_a = 0.3\n",
    "_b = 0.5\n",
    "\n",
    "f = lambda x: _a * x + _b # ground truth\n",
    "g = lambda x: f(x) + random.gauss(0, 0.02) # a noisy version of f"
   ]
  },
  {
   "cell_type": "code",
   "execution_count": null,
   "metadata": {},
   "outputs": [],
   "source": [
    "n = 50 # number of examples\n",
    "\n",
    "xs = [random.random() for _ in xrange(n)] # features\n",
    "ys = map(g, xs) # targets\n",
    "\n",
    "ts = map(f, xs) # we don't get to see this"
   ]
  },
  {
   "cell_type": "markdown",
   "metadata": {},
   "source": [
    "Our goal is to recreate $f$. However, as reality can be harsh (and usually is) we only get to observe $g$. We observe it as a list of pairs $(x,y) \\in \\text{zip}(xs, ys)$.\n",
    "\n",
    "Let's plot the data."
   ]
  },
  {
   "cell_type": "code",
   "execution_count": null,
   "metadata": {},
   "outputs": [],
   "source": [
    "import matplotlib.pyplot as plt\n",
    "import seaborn as sns\n",
    "\n",
    "fig = plt.figure(figsize=(11, 11))\n",
    "plt.scatter(xs, ys)"
   ]
  },
  {
   "cell_type": "code",
   "execution_count": null,
   "metadata": {
    "collapsed": true
   },
   "outputs": [],
   "source": [
    "def l2_loss(ys, ps):\n",
    "    assert len(ys) == len(ps)\n",
    "    #################################\n",
    "    # TODO: Implement this function #\n",
    "    #################################\n",
    "    return 0."
   ]
  },
  {
   "cell_type": "markdown",
   "metadata": {},
   "source": [
    "Please take a while to (roughly) guess the output before executing the cell below."
   ]
  },
  {
   "cell_type": "code",
   "execution_count": null,
   "metadata": {},
   "outputs": [],
   "source": [
    "l2_loss(ys, ts)"
   ]
  },
  {
   "cell_type": "markdown",
   "metadata": {},
   "source": [
    "Let's now implement the algorithm\n",
    "\n",
    "Hint: To make sure that you correctly compute the gradients, you can compute them numerically and compare the results. "
   ]
  },
  {
   "cell_type": "code",
   "execution_count": null,
   "metadata": {},
   "outputs": [],
   "source": [
    "a = 0. # our initial guess for _a\n",
    "b = 0. # our initial guess for _b\n",
    "lr = 0.5 # step size\n",
    "\n",
    "n_epochs = 40 # number of passes over the training data\n",
    "\n",
    "def predict(a, b, xs=xs):\n",
    "    return [a * x + b for x in xs]\n",
    "\n",
    "def evaluate(a, b, xs=xs, ys=ys):\n",
    "    return l2_loss(ys, predict(a, b, xs))\n",
    "\n",
    "losses = [evaluate(a, b)]\n",
    "\n",
    "for i in xrange(n_epochs):\n",
    "    #############################\n",
    "    # TODO: Fill in the details #\n",
    "    #############################\n",
    "    \n",
    "    loss = evaluate(a, b)\n",
    "    losses.append(loss)\n",
    "    \n",
    "    print 'Iter: {:>3} Loss: {:8.8f} a: {:8.5f}, b: {:8.5f}'.format(i, loss, a, b)"
   ]
  },
  {
   "cell_type": "code",
   "execution_count": null,
   "metadata": {},
   "outputs": [],
   "source": [
    "plt.plot(losses)"
   ]
  },
  {
   "cell_type": "markdown",
   "metadata": {},
   "source": [
    "Let's now visually asses our predictions on training data"
   ]
  },
  {
   "cell_type": "code",
   "execution_count": null,
   "metadata": {},
   "outputs": [],
   "source": [
    "fig = plt.figure(figsize=(11, 11))\n",
    "plt.scatter(xs, ys)\n",
    "plt.plot(xs, predict(a, b), c='g')\n",
    "plt.show()"
   ]
  },
  {
   "cell_type": "code",
   "execution_count": null,
   "metadata": {},
   "outputs": [],
   "source": [
    "fig = plt.figure(figsize=(11, 11))\n",
    "plt.scatter(xs, ys)\n",
    "plt.plot(xs, predict(a, b), c='g')\n",
    "\n",
    "################################################################\n",
    "# TODO: Add the (unobserved) ground truth, i.e. ts to the plot #\n",
    "################################################################\n",
    "\n",
    "plt.show()"
   ]
  },
  {
   "cell_type": "markdown",
   "metadata": {},
   "source": [
    "Let's check our implementation vs. the one in sklearn"
   ]
  },
  {
   "cell_type": "code",
   "execution_count": null,
   "metadata": {},
   "outputs": [],
   "source": [
    "from sklearn.linear_model import LinearRegression\n",
    "import numpy as np\n",
    "\n",
    "X = np.array(xs).reshape((len(xs), 1))\n",
    "regr = LinearRegression()\n",
    "regr.fit(X, ys) # training\n",
    "\n",
    "sk_a = float(regr.coef_)\n",
    "sk_b = regr.intercept_\n",
    "sk_loss = l2_loss(ys, regr.predict(X))\n",
    "\n",
    "print 'Loss: {:8.8f} a: {:8.5f}, b: {:8.5f}'.format(\n",
    "    sk_loss, sk_a, sk_b)"
   ]
  },
  {
   "cell_type": "markdown",
   "metadata": {},
   "source": [
    "Using the code above, implement and test the following approaches:\n",
    "* random search instead of gradient descent,\n",
    "* stochastic gradient descent (i.e. changing the parameters after each instance),\n",
    "* learning rate adaptation according to your own heuristic."
   ]
  }
 ],
 "metadata": {
  "kernelspec": {
   "display_name": "Python 3",
   "language": "python",
   "name": "python3"
  },
  "language_info": {
   "codemirror_mode": {
    "name": "ipython",
    "version": 3
   },
   "file_extension": ".py",
   "mimetype": "text/x-python",
   "name": "python",
   "nbconvert_exporter": "python",
   "pygments_lexer": "ipython3",
   "version": "3.5.2"
  }
 },
 "nbformat": 4,
 "nbformat_minor": 1
}
